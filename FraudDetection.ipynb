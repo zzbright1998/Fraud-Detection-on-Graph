{
  "cells": [
    {
      "cell_type": "code",
      "execution_count": null,
      "metadata": {
        "colab": {
          "base_uri": "https://localhost:8080/"
        },
        "id": "5hVOEU5ReAgr",
        "outputId": "1865c725-a3b9-44df-8b5f-790c5b35d229"
      },
      "outputs": [
        {
          "output_type": "stream",
          "name": "stdout",
          "text": [
            "Collecting torch_geometric\n",
            "  Downloading torch_geometric-2.4.0-py3-none-any.whl (1.0 MB)\n",
            "\u001b[2K     \u001b[90m━━━━━━━━━━━━━━━━━━━━━━━━━━━━━━━━━━━━━━━━\u001b[0m \u001b[32m1.0/1.0 MB\u001b[0m \u001b[31m11.7 MB/s\u001b[0m eta \u001b[36m0:00:00\u001b[0m\n",
            "\u001b[?25hRequirement already satisfied: tqdm in /usr/local/lib/python3.10/dist-packages (from torch_geometric) (4.66.1)\n",
            "Requirement already satisfied: numpy in /usr/local/lib/python3.10/dist-packages (from torch_geometric) (1.23.5)\n",
            "Requirement already satisfied: scipy in /usr/local/lib/python3.10/dist-packages (from torch_geometric) (1.11.4)\n",
            "Requirement already satisfied: jinja2 in /usr/local/lib/python3.10/dist-packages (from torch_geometric) (3.1.2)\n",
            "Requirement already satisfied: requests in /usr/local/lib/python3.10/dist-packages (from torch_geometric) (2.31.0)\n",
            "Requirement already satisfied: pyparsing in /usr/local/lib/python3.10/dist-packages (from torch_geometric) (3.1.1)\n",
            "Requirement already satisfied: scikit-learn in /usr/local/lib/python3.10/dist-packages (from torch_geometric) (1.2.2)\n",
            "Requirement already satisfied: psutil>=5.8.0 in /usr/local/lib/python3.10/dist-packages (from torch_geometric) (5.9.5)\n",
            "Requirement already satisfied: MarkupSafe>=2.0 in /usr/local/lib/python3.10/dist-packages (from jinja2->torch_geometric) (2.1.3)\n",
            "Requirement already satisfied: charset-normalizer<4,>=2 in /usr/local/lib/python3.10/dist-packages (from requests->torch_geometric) (3.3.2)\n",
            "Requirement already satisfied: idna<4,>=2.5 in /usr/local/lib/python3.10/dist-packages (from requests->torch_geometric) (3.6)\n",
            "Requirement already satisfied: urllib3<3,>=1.21.1 in /usr/local/lib/python3.10/dist-packages (from requests->torch_geometric) (2.0.7)\n",
            "Requirement already satisfied: certifi>=2017.4.17 in /usr/local/lib/python3.10/dist-packages (from requests->torch_geometric) (2023.11.17)\n",
            "Requirement already satisfied: joblib>=1.1.1 in /usr/local/lib/python3.10/dist-packages (from scikit-learn->torch_geometric) (1.3.2)\n",
            "Requirement already satisfied: threadpoolctl>=2.0.0 in /usr/local/lib/python3.10/dist-packages (from scikit-learn->torch_geometric) (3.2.0)\n",
            "Installing collected packages: torch_geometric\n",
            "Successfully installed torch_geometric-2.4.0\n"
          ]
        }
      ],
      "source": [
        "pip install torch_geometric"
      ]
    },
    {
      "cell_type": "code",
      "execution_count": null,
      "metadata": {
        "colab": {
          "base_uri": "https://localhost:8080/"
        },
        "id": "xsyPCPE0TEUh",
        "outputId": "e88942a8-3f3a-4a96-f320-dfdec2738d19"
      },
      "outputs": [
        {
          "output_type": "stream",
          "name": "stdout",
          "text": [
            "Collecting shap\n",
            "  Downloading shap-0.44.0-cp310-cp310-manylinux_2_12_x86_64.manylinux2010_x86_64.manylinux_2_17_x86_64.manylinux2014_x86_64.whl (533 kB)\n",
            "\u001b[2K     \u001b[90m━━━━━━━━━━━━━━━━━━━━━━━━━━━━━━━━━━━━━━━━\u001b[0m \u001b[32m533.5/533.5 kB\u001b[0m \u001b[31m7.9 MB/s\u001b[0m eta \u001b[36m0:00:00\u001b[0m\n",
            "\u001b[?25hRequirement already satisfied: numpy in /usr/local/lib/python3.10/dist-packages (from shap) (1.23.5)\n",
            "Requirement already satisfied: scipy in /usr/local/lib/python3.10/dist-packages (from shap) (1.11.4)\n",
            "Requirement already satisfied: scikit-learn in /usr/local/lib/python3.10/dist-packages (from shap) (1.2.2)\n",
            "Requirement already satisfied: pandas in /usr/local/lib/python3.10/dist-packages (from shap) (1.5.3)\n",
            "Requirement already satisfied: tqdm>=4.27.0 in /usr/local/lib/python3.10/dist-packages (from shap) (4.66.1)\n",
            "Requirement already satisfied: packaging>20.9 in /usr/local/lib/python3.10/dist-packages (from shap) (23.2)\n",
            "Collecting slicer==0.0.7 (from shap)\n",
            "  Downloading slicer-0.0.7-py3-none-any.whl (14 kB)\n",
            "Requirement already satisfied: numba in /usr/local/lib/python3.10/dist-packages (from shap) (0.58.1)\n",
            "Requirement already satisfied: cloudpickle in /usr/local/lib/python3.10/dist-packages (from shap) (2.2.1)\n",
            "Requirement already satisfied: llvmlite<0.42,>=0.41.0dev0 in /usr/local/lib/python3.10/dist-packages (from numba->shap) (0.41.1)\n",
            "Requirement already satisfied: python-dateutil>=2.8.1 in /usr/local/lib/python3.10/dist-packages (from pandas->shap) (2.8.2)\n",
            "Requirement already satisfied: pytz>=2020.1 in /usr/local/lib/python3.10/dist-packages (from pandas->shap) (2023.3.post1)\n",
            "Requirement already satisfied: joblib>=1.1.1 in /usr/local/lib/python3.10/dist-packages (from scikit-learn->shap) (1.3.2)\n",
            "Requirement already satisfied: threadpoolctl>=2.0.0 in /usr/local/lib/python3.10/dist-packages (from scikit-learn->shap) (3.2.0)\n",
            "Requirement already satisfied: six>=1.5 in /usr/local/lib/python3.10/dist-packages (from python-dateutil>=2.8.1->pandas->shap) (1.16.0)\n",
            "Installing collected packages: slicer, shap\n",
            "Successfully installed shap-0.44.0 slicer-0.0.7\n"
          ]
        }
      ],
      "source": [
        "pip install shap"
      ]
    },
    {
      "cell_type": "code",
      "execution_count": null,
      "metadata": {
        "id": "q9Agl2oXckcr"
      },
      "outputs": [],
      "source": [
        "import torch\n",
        "from torch_geometric.datasets import EllipticBitcoinDataset\n",
        "import torch.nn as nn\n",
        "import torch.nn.functional as F\n",
        "# from ogb.nodeproppred import Evaluator\n",
        "from sklearn import metrics as metrics\n",
        "import shap"
      ]
    },
    {
      "cell_type": "markdown",
      "metadata": {
        "id": "yATQkmEqgGUn"
      },
      "source": [
        "# Read Dataset"
      ]
    },
    {
      "cell_type": "code",
      "execution_count": null,
      "metadata": {
        "id": "7C_YEhtEeMMz",
        "colab": {
          "base_uri": "https://localhost:8080/"
        },
        "outputId": "1e31c0e4-d903-412f-9404-4ac43d34a29c"
      },
      "outputs": [
        {
          "output_type": "stream",
          "name": "stderr",
          "text": [
            "Downloading https://data.pyg.org/datasets/elliptic/elliptic_txs_features.csv.zip\n",
            "Extracting data/whole_graph/raw/elliptic_txs_features.csv.zip\n",
            "Downloading https://data.pyg.org/datasets/elliptic/elliptic_txs_edgelist.csv.zip\n",
            "Extracting data/whole_graph/raw/elliptic_txs_edgelist.csv.zip\n",
            "Downloading https://data.pyg.org/datasets/elliptic/elliptic_txs_classes.csv.zip\n",
            "Extracting data/whole_graph/raw/elliptic_txs_classes.csv.zip\n",
            "Processing...\n",
            "Done!\n"
          ]
        }
      ],
      "source": [
        "device = 'cuda' if torch.cuda.is_available() else 'cpu'\n",
        "dataset = EllipticBitcoinDataset(root='data/whole_graph')\n",
        "data = dataset[0]"
      ]
    },
    {
      "cell_type": "markdown",
      "metadata": {
        "id": "P8yrmdEvgNxh"
      },
      "source": [
        "# Models"
      ]
    },
    {
      "cell_type": "markdown",
      "metadata": {
        "id": "LIWHlnkrgqRP"
      },
      "source": [
        "## GCN"
      ]
    },
    {
      "cell_type": "code",
      "execution_count": null,
      "metadata": {
        "id": "5E0pkX5geQOE"
      },
      "outputs": [],
      "source": [
        "from torch_geometric.nn import GCNConv\n",
        "\n",
        "class GCN(torch.nn.Module):\n",
        "    def __init__(self, hidden_channels, num_layers, dropout):\n",
        "        super().__init__()\n",
        "        torch.manual_seed(777)\n",
        "\n",
        "        # Convolution layers\n",
        "        if num_layers > 1:\n",
        "            self.convs = nn.ModuleList([GCNConv(dataset.num_features, hidden_channels)])\n",
        "            self.convs.extend([GCNConv(hidden_channels, hidden_channels) for i in range(num_layers - 2)])\n",
        "            self.convs.append(GCNConv(hidden_channels, dataset.num_classes))\n",
        "\n",
        "            # Batch normilization\n",
        "            self.bns = nn.ModuleList([nn.BatchNorm1d(hidden_channels)\n",
        "                                     for i in range(num_layers - 1)])\n",
        "        else:\n",
        "            self.convs = nn.ModuleList([GCNConv(dataset.num_features, dataset.num_classes)])\n",
        "            self.bns = nn.ModuleList([])\n",
        "\n",
        "        # Softmax layer\n",
        "        self.softmax = nn.LogSoftmax(1)\n",
        "\n",
        "        # Dropout\n",
        "        self.dropout = nn.Dropout(dropout)\n",
        "\n",
        "    # initialize parameters\n",
        "    def reset_parameters(self):\n",
        "        for conv in self.convs:\n",
        "            conv.reset_parameters()\n",
        "        for bn in self.bns:\n",
        "            bn.reset_parameters()\n",
        "\n",
        "    def forward(self, x, edge_index, embedding=False):\n",
        "        for gcn, bn in zip(self.convs, self.bns):\n",
        "            x = self.dropout(torch.relu(bn(gcn(x, edge_index))))\n",
        "        if embedding:\n",
        "            embeddings = x.cpu().detach().numpy()\n",
        "        else: embeddings = None\n",
        "\n",
        "        x = self.convs[-1](x, edge_index)\n",
        "\n",
        "        return self.softmax(x), embeddings"
      ]
    },
    {
      "cell_type": "markdown",
      "metadata": {
        "id": "5vbxG-s8gTIJ"
      },
      "source": [
        "## GAT"
      ]
    },
    {
      "cell_type": "code",
      "execution_count": null,
      "metadata": {
        "id": "iBa7nyvUeYdP"
      },
      "outputs": [],
      "source": [
        "from torch_geometric.nn import GATConv\n",
        "\n",
        "class GAT(torch.nn.Module):\n",
        "    def __init__(self, hidden_channels, heads, num_layers, dropout):\n",
        "        super().__init__()\n",
        "        torch.manual_seed(777)\n",
        "        self.num_layers = num_layers\n",
        "\n",
        "        if num_layers > 1:\n",
        "            # GAT layers\n",
        "            self.convs = nn.ModuleList([GATConv(dataset.num_features, hidden_channels, heads)])\n",
        "            self.convs.extend([GATConv(heads*hidden_channels, hidden_channels, heads) for i in range(num_layers - 2)])\n",
        "            self.convs.append(GATConv(heads*hidden_channels, dataset.num_classes))\n",
        "\n",
        "            # Batch Normilization\n",
        "            self.bns = nn.ModuleList([nn.BatchNorm1d(heads*hidden_channels)\n",
        "                                     for i in range(num_layers - 1)])\n",
        "        else:\n",
        "            self.convs = nn.ModuleList([GATConv(dataset.num_features, dataset.num_classes)])\n",
        "            self.bns = nn.ModuleList([])\n",
        "\n",
        "         # Softmax layer\n",
        "        self.softmax = nn.LogSoftmax(1)\n",
        "\n",
        "        # Dropout\n",
        "        self.dropout = nn.Dropout(dropout)\n",
        "\n",
        "    # initialize parameters\n",
        "    def reset_parameters(self):\n",
        "        for conv in self.convs:\n",
        "            conv.reset_parameters()\n",
        "        for bn in self.bns:\n",
        "            bn.reset_parameters()\n",
        "\n",
        "    def forward(self, x, edge_index, embedding=False):\n",
        "        for gat, bn in zip(self.convs, self.bns):\n",
        "            x = self.dropout(torch.relu(bn(gat(x, edge_index))))\n",
        "        if embedding:\n",
        "            embeddings = x.cpu().detach().numpy()\n",
        "        else: embeddings = None\n",
        "\n",
        "        x = self.convs[-1](x, edge_index)\n",
        "\n",
        "        return self.softmax(x), embeddings\n",
        "\n"
      ]
    },
    {
      "cell_type": "markdown",
      "metadata": {
        "id": "4LpQ4UJhgUxZ"
      },
      "source": [
        "## GraphSAGE"
      ]
    },
    {
      "cell_type": "code",
      "execution_count": null,
      "metadata": {
        "id": "VgawcFu7eb2r"
      },
      "outputs": [],
      "source": [
        "from torch_geometric.nn import SAGEConv\n",
        "\n",
        "class GraphSAGENet(nn.Module):\n",
        "    def __init__(self, hidden_channels, num_layers, dropout):\n",
        "        super().__init__()\n",
        "        torch.manual_seed(777)\n",
        "\n",
        "        if num_layers > 1:\n",
        "            # Convolution layers\n",
        "            self.convs = nn.ModuleList([SAGEConv(dataset.num_features, hidden_channels)])\n",
        "            self.convs.extend([SAGEConv(hidden_channels, hidden_channels) for i in range(num_layers - 2)])\n",
        "            self.convs.append(SAGEConv(hidden_channels, dataset.num_classes))\n",
        "\n",
        "             # Batch normilization\n",
        "            self.bns = nn.ModuleList([nn.BatchNorm1d(hidden_channels)\n",
        "                                     for i in range(num_layers - 1)])\n",
        "\n",
        "        else:\n",
        "            self.convs = nn.ModuleList([SAGEConv(dataset.num_features, dataset.num_classes)])\n",
        "            self.bns = nn.ModuleList([])\n",
        "\n",
        "        # Softmax layer\n",
        "        self.softmax = nn.LogSoftmax(1)\n",
        "\n",
        "        # Dropout\n",
        "        self.dropout = nn.Dropout(dropout)\n",
        "\n",
        "    # initialize parameters\n",
        "    def reset_parameters(self):\n",
        "        for conv in self.convs:\n",
        "            conv.reset_parameters()\n",
        "        for bn in self.bns:\n",
        "            bn.reset_parameters()\n",
        "\n",
        "    def forward(self, x, edge_index, embedding=False):\n",
        "        for gcn, bn in zip(self.convs, self.bns):\n",
        "            x = self.dropout(torch.relu(bn(gcn(x, edge_index))))\n",
        "        if embedding:\n",
        "            embeddings = x.cpu().detach().numpy()\n",
        "        else: embeddings = None\n",
        "\n",
        "        x = self.convs[-1](x, edge_index)\n",
        "\n",
        "        return self.softmax(x), embeddings\n"
      ]
    },
    {
      "cell_type": "markdown",
      "metadata": {
        "id": "98fTh2T1gaOZ"
      },
      "source": [
        "# Help functions"
      ]
    },
    {
      "cell_type": "code",
      "execution_count": null,
      "metadata": {
        "id": "FjpEOZ3gehJC"
      },
      "outputs": [],
      "source": [
        "def train(model, data, optimizer, loss_fn, embedding):\n",
        "    model.train()\n",
        "\n",
        "    # Clear gradients.\n",
        "    optimizer.zero_grad()\n",
        "\n",
        "    # feed datas into the model\n",
        "    output, _ = model(data.x, data.edge_index, embedding)\n",
        "\n",
        "    # Get the model's predictions and labels\n",
        "    pred, label = output[data.train_mask], data.y[data.train_mask].view(-1)\n",
        "\n",
        "    loss = loss_fn(pred, label0)\n",
        "\n",
        "    loss.backward()  # Derive gradients.\n",
        "    optimizer.step()  # Update parameters based on gradients.\n",
        "    return loss.item()\n",
        "\n",
        "\n",
        "def test(model, data, embedding):\n",
        "    model.eval()\n",
        "\n",
        "    output, _ = model(data.x, data.edge_index, embedding)\n",
        "    y_pred = output.argmax(dim=1)\n",
        "    train_acc = metrics.accuracy_score(data.y[data.train_mask].cpu(), y_pred[data.train_mask].cpu())\n",
        "    test_acc = metrics.accuracy_score(data.y[data.test_mask].cpu(), y_pred[data.test_mask].cpu())\n",
        "    test_pre = metrics.precision_score(data.y[data.test_mask].cpu(), y_pred[data.test_mask].cpu())\n",
        "    test_recall = metrics.recall_score(data.y[data.test_mask].cpu(), y_pred[data.test_mask].cpu())\n",
        "    test_f1 = metrics.f1_score(data.y[data.test_mask].cpu(), y_pred[data.test_mask].cpu())\n",
        "\n",
        "    return train_acc, test_acc, test_pre, test_recall, test_f1\n",
        "\n",
        "\n",
        "def runModel(model, data, optimizer, loss_fn, embedding):\n",
        "    model.reset_parameters()\n",
        "    data = data.to(device)\n",
        "    for epoch in range(1, 501):\n",
        "        loss = train(model, data, optimizer, loss_fn, embedding)\n",
        "        result = test(model, data, embedding)\n",
        "        train_acc, _, _, _, _ = result\n",
        "        print(f'Epoch: {epoch:02d}, '\n",
        "              f'Loss: {loss:.4f}, '\n",
        "              f'Train: {100*train_acc:.2f}%')\n",
        "\n",
        "    result = test(model, data, embedding)\n",
        "    _, test_acc, test_pre, test_recall, test_f1 = result\n",
        "    print(f'Test Accuracy: {100*test_acc:.2f}%  '\n",
        "          f'Test Precision: {100*test_pre:.2f}%  '\n",
        "          f'Test Recall: {100*test_recall:.2f}%  '\n",
        "          f'Test F1: {100*test_f1:.2f}%  ')\n",
        "\n",
        "\n",
        "def get_embeddings(model, data, optimizer, loss_fn):\n",
        "    model.train()\n",
        "    # Clear gradients.\n",
        "    optimizer.zero_grad()\n",
        "    # feed datas into the model\n",
        "    for _ in range(500):\n",
        "        _, _ = model(data.x, data.edge_index, False)\n",
        "    _, embeddings = model(data.x, data.edge_index, True)\n",
        "    return embeddings"
      ]
    },
    {
      "cell_type": "markdown",
      "metadata": {
        "id": "_4FltD36g10y"
      },
      "source": [
        "# Run Models"
      ]
    },
    {
      "cell_type": "code",
      "execution_count": null,
      "metadata": {
        "id": "WlZHCcHDg8XK"
      },
      "outputs": [],
      "source": [
        "model_GAT = GAT(hidden_channels=64, heads=8, num_layers=2, dropout=0.3).to(device)\n",
        "model_SAGE = GraphSAGENet(hidden_channels=64, num_layers=2, dropout=0.3).to(device)\n",
        "model_GCN = GCN(hidden_channels=128, num_layers=2, dropout=0.3).to(device)"
      ]
    },
    {
      "cell_type": "markdown",
      "metadata": {
        "id": "A8KQRpezg5Ok"
      },
      "source": [
        "## GCN"
      ]
    },
    {
      "cell_type": "code",
      "execution_count": null,
      "metadata": {
        "colab": {
          "base_uri": "https://localhost:8080/",
          "height": 351
        },
        "id": "1LOjmsvnem1Q",
        "outputId": "7e9fae43-40b6-4b65-d77d-f46a7623e1a1"
      },
      "outputs": [
        {
          "ename": "NameError",
          "evalue": "ignored",
          "output_type": "error",
          "traceback": [
            "\u001b[0;31m---------------------------------------------------------------------------\u001b[0m",
            "\u001b[0;31mNameError\u001b[0m                                 Traceback (most recent call last)",
            "\u001b[0;32m<ipython-input-9-976caf7215c7>\u001b[0m in \u001b[0;36m<cell line: 5>\u001b[0;34m()\u001b[0m\n\u001b[1;32m      3\u001b[0m \u001b[0moptimizer\u001b[0m \u001b[0;34m=\u001b[0m \u001b[0mtorch\u001b[0m\u001b[0;34m.\u001b[0m\u001b[0moptim\u001b[0m\u001b[0;34m.\u001b[0m\u001b[0mAdam\u001b[0m\u001b[0;34m(\u001b[0m\u001b[0mmodel\u001b[0m\u001b[0;34m.\u001b[0m\u001b[0mparameters\u001b[0m\u001b[0;34m(\u001b[0m\u001b[0;34m)\u001b[0m\u001b[0;34m,\u001b[0m \u001b[0mlr\u001b[0m\u001b[0;34m=\u001b[0m\u001b[0;36m0.001\u001b[0m\u001b[0;34m,\u001b[0m \u001b[0mweight_decay\u001b[0m\u001b[0;34m=\u001b[0m\u001b[0;36m5e-4\u001b[0m\u001b[0;34m)\u001b[0m\u001b[0;34m\u001b[0m\u001b[0;34m\u001b[0m\u001b[0m\n\u001b[1;32m      4\u001b[0m \u001b[0mloss_fn\u001b[0m \u001b[0;34m=\u001b[0m \u001b[0mtorch\u001b[0m\u001b[0;34m.\u001b[0m\u001b[0mnn\u001b[0m\u001b[0;34m.\u001b[0m\u001b[0mCrossEntropyLoss\u001b[0m\u001b[0;34m(\u001b[0m\u001b[0;34m)\u001b[0m\u001b[0;34m\u001b[0m\u001b[0;34m\u001b[0m\u001b[0m\n\u001b[0;32m----> 5\u001b[0;31m \u001b[0mrunModel\u001b[0m\u001b[0;34m(\u001b[0m\u001b[0mmodel\u001b[0m\u001b[0;34m,\u001b[0m \u001b[0mdata\u001b[0m\u001b[0;34m,\u001b[0m \u001b[0moptimizer\u001b[0m\u001b[0;34m,\u001b[0m \u001b[0mloss_fn\u001b[0m\u001b[0;34m,\u001b[0m \u001b[0m_\u001b[0m\u001b[0;34m)\u001b[0m\u001b[0;34m\u001b[0m\u001b[0;34m\u001b[0m\u001b[0m\n\u001b[0m",
            "\u001b[0;32m<ipython-input-7-d7498a48db09>\u001b[0m in \u001b[0;36mrunModel\u001b[0;34m(model, data, optimizer, loss_fn, embedding)\u001b[0m\n\u001b[1;32m     36\u001b[0m     \u001b[0mdata\u001b[0m \u001b[0;34m=\u001b[0m \u001b[0mdata\u001b[0m\u001b[0;34m.\u001b[0m\u001b[0mto\u001b[0m\u001b[0;34m(\u001b[0m\u001b[0mdevice\u001b[0m\u001b[0;34m)\u001b[0m\u001b[0;34m\u001b[0m\u001b[0;34m\u001b[0m\u001b[0m\n\u001b[1;32m     37\u001b[0m     \u001b[0;32mfor\u001b[0m \u001b[0mepoch\u001b[0m \u001b[0;32min\u001b[0m \u001b[0mrange\u001b[0m\u001b[0;34m(\u001b[0m\u001b[0;36m1\u001b[0m\u001b[0;34m,\u001b[0m \u001b[0;36m501\u001b[0m\u001b[0;34m)\u001b[0m\u001b[0;34m:\u001b[0m\u001b[0;34m\u001b[0m\u001b[0;34m\u001b[0m\u001b[0m\n\u001b[0;32m---> 38\u001b[0;31m         \u001b[0mloss\u001b[0m \u001b[0;34m=\u001b[0m \u001b[0mtrain\u001b[0m\u001b[0;34m(\u001b[0m\u001b[0mmodel\u001b[0m\u001b[0;34m,\u001b[0m \u001b[0mdata\u001b[0m\u001b[0;34m,\u001b[0m \u001b[0moptimizer\u001b[0m\u001b[0;34m,\u001b[0m \u001b[0mloss_fn\u001b[0m\u001b[0;34m,\u001b[0m \u001b[0membedding\u001b[0m\u001b[0;34m)\u001b[0m\u001b[0;34m\u001b[0m\u001b[0;34m\u001b[0m\u001b[0m\n\u001b[0m\u001b[1;32m     39\u001b[0m         \u001b[0mresult\u001b[0m \u001b[0;34m=\u001b[0m \u001b[0mtest\u001b[0m\u001b[0;34m(\u001b[0m\u001b[0mmodel\u001b[0m\u001b[0;34m,\u001b[0m \u001b[0mdata\u001b[0m\u001b[0;34m,\u001b[0m \u001b[0membedding\u001b[0m\u001b[0;34m)\u001b[0m\u001b[0;34m\u001b[0m\u001b[0;34m\u001b[0m\u001b[0m\n\u001b[1;32m     40\u001b[0m         \u001b[0mtrain_acc\u001b[0m\u001b[0;34m,\u001b[0m \u001b[0m_\u001b[0m\u001b[0;34m,\u001b[0m \u001b[0m_\u001b[0m\u001b[0;34m,\u001b[0m \u001b[0m_\u001b[0m\u001b[0;34m,\u001b[0m \u001b[0m_\u001b[0m \u001b[0;34m=\u001b[0m \u001b[0mresult\u001b[0m\u001b[0;34m\u001b[0m\u001b[0;34m\u001b[0m\u001b[0m\n",
            "\u001b[0;32m<ipython-input-7-d7498a48db09>\u001b[0m in \u001b[0;36mtrain\u001b[0;34m(model, data, optimizer, loss_fn, embedding)\u001b[0m\n\u001b[1;32m     11\u001b[0m     \u001b[0mpred\u001b[0m\u001b[0;34m,\u001b[0m \u001b[0mlabel\u001b[0m \u001b[0;34m=\u001b[0m \u001b[0moutput\u001b[0m\u001b[0;34m[\u001b[0m\u001b[0mdata\u001b[0m\u001b[0;34m.\u001b[0m\u001b[0mtrain_mask\u001b[0m\u001b[0;34m]\u001b[0m\u001b[0;34m,\u001b[0m \u001b[0mdata\u001b[0m\u001b[0;34m.\u001b[0m\u001b[0my\u001b[0m\u001b[0;34m[\u001b[0m\u001b[0mdata\u001b[0m\u001b[0;34m.\u001b[0m\u001b[0mtrain_mask\u001b[0m\u001b[0;34m]\u001b[0m\u001b[0;34m.\u001b[0m\u001b[0mview\u001b[0m\u001b[0;34m(\u001b[0m\u001b[0;34m-\u001b[0m\u001b[0;36m1\u001b[0m\u001b[0;34m)\u001b[0m\u001b[0;34m\u001b[0m\u001b[0;34m\u001b[0m\u001b[0m\n\u001b[1;32m     12\u001b[0m \u001b[0;34m\u001b[0m\u001b[0m\n\u001b[0;32m---> 13\u001b[0;31m     \u001b[0mloss\u001b[0m \u001b[0;34m=\u001b[0m \u001b[0mloss_fn\u001b[0m\u001b[0;34m(\u001b[0m\u001b[0mpred\u001b[0m\u001b[0;34m,\u001b[0m \u001b[0mlabel0\u001b[0m\u001b[0;34m)\u001b[0m\u001b[0;34m\u001b[0m\u001b[0;34m\u001b[0m\u001b[0m\n\u001b[0m\u001b[1;32m     14\u001b[0m \u001b[0;34m\u001b[0m\u001b[0m\n\u001b[1;32m     15\u001b[0m     \u001b[0mloss\u001b[0m\u001b[0;34m.\u001b[0m\u001b[0mbackward\u001b[0m\u001b[0;34m(\u001b[0m\u001b[0;34m)\u001b[0m  \u001b[0;31m# Derive gradients.\u001b[0m\u001b[0;34m\u001b[0m\u001b[0;34m\u001b[0m\u001b[0m\n",
            "\u001b[0;31mNameError\u001b[0m: name 'label0' is not defined"
          ]
        }
      ],
      "source": [
        "#weight = torch.tensor([0.5655, 4.3174]).to(device)\n",
        "model = model_GCN\n",
        "optimizer = torch.optim.Adam(model.parameters(), lr=0.001, weight_decay=5e-4)\n",
        "loss_fn = torch.nn.CrossEntropyLoss()\n",
        "runModel(model, data, optimizer, loss_fn, _)"
      ]
    },
    {
      "cell_type": "markdown",
      "metadata": {
        "id": "4Y492U0ihPvW"
      },
      "source": [
        "## GAT"
      ]
    },
    {
      "cell_type": "code",
      "execution_count": null,
      "metadata": {
        "id": "NQURtce6hSWv"
      },
      "outputs": [],
      "source": [
        "model = model_GAT\n",
        "optimizer = torch.optim.Adam(model.parameters(), lr=0.001, weight_decay=5e-4)\n",
        "loss_fn = torch.nn.CrossEntropyLoss()\n",
        "runModel(model, data, optimizer, loss_fn, False)"
      ]
    },
    {
      "cell_type": "markdown",
      "metadata": {
        "id": "xqHblfLth45Q"
      },
      "source": [
        "## GraphSAGE"
      ]
    },
    {
      "cell_type": "code",
      "execution_count": null,
      "metadata": {
        "colab": {
          "base_uri": "https://localhost:8080/",
          "height": 351
        },
        "id": "Z3TtkaX_h7we",
        "outputId": "a1ee31f2-2b18-4243-c3fc-a3afd8a19cff"
      },
      "outputs": [
        {
          "ename": "NameError",
          "evalue": "ignored",
          "output_type": "error",
          "traceback": [
            "\u001b[0;31m---------------------------------------------------------------------------\u001b[0m",
            "\u001b[0;31mNameError\u001b[0m                                 Traceback (most recent call last)",
            "\u001b[0;32m<ipython-input-10-ff9cb0f4c920>\u001b[0m in \u001b[0;36m<cell line: 4>\u001b[0;34m()\u001b[0m\n\u001b[1;32m      2\u001b[0m \u001b[0moptimizer\u001b[0m \u001b[0;34m=\u001b[0m \u001b[0mtorch\u001b[0m\u001b[0;34m.\u001b[0m\u001b[0moptim\u001b[0m\u001b[0;34m.\u001b[0m\u001b[0mAdam\u001b[0m\u001b[0;34m(\u001b[0m\u001b[0mmodel\u001b[0m\u001b[0;34m.\u001b[0m\u001b[0mparameters\u001b[0m\u001b[0;34m(\u001b[0m\u001b[0;34m)\u001b[0m\u001b[0;34m,\u001b[0m \u001b[0mlr\u001b[0m\u001b[0;34m=\u001b[0m\u001b[0;36m0.001\u001b[0m\u001b[0;34m,\u001b[0m \u001b[0mweight_decay\u001b[0m\u001b[0;34m=\u001b[0m\u001b[0;36m5e-4\u001b[0m\u001b[0;34m)\u001b[0m\u001b[0;34m\u001b[0m\u001b[0;34m\u001b[0m\u001b[0m\n\u001b[1;32m      3\u001b[0m \u001b[0mloss_fn\u001b[0m \u001b[0;34m=\u001b[0m \u001b[0mtorch\u001b[0m\u001b[0;34m.\u001b[0m\u001b[0mnn\u001b[0m\u001b[0;34m.\u001b[0m\u001b[0mCrossEntropyLoss\u001b[0m\u001b[0;34m(\u001b[0m\u001b[0;34m)\u001b[0m\u001b[0;34m\u001b[0m\u001b[0;34m\u001b[0m\u001b[0m\n\u001b[0;32m----> 4\u001b[0;31m \u001b[0mrunModel\u001b[0m\u001b[0;34m(\u001b[0m\u001b[0mmodel\u001b[0m\u001b[0;34m,\u001b[0m \u001b[0mdata\u001b[0m\u001b[0;34m,\u001b[0m \u001b[0moptimizer\u001b[0m\u001b[0;34m,\u001b[0m \u001b[0mloss_fn\u001b[0m\u001b[0;34m,\u001b[0m \u001b[0;32mFalse\u001b[0m\u001b[0;34m)\u001b[0m\u001b[0;34m\u001b[0m\u001b[0;34m\u001b[0m\u001b[0m\n\u001b[0m",
            "\u001b[0;32m<ipython-input-7-d7498a48db09>\u001b[0m in \u001b[0;36mrunModel\u001b[0;34m(model, data, optimizer, loss_fn, embedding)\u001b[0m\n\u001b[1;32m     36\u001b[0m     \u001b[0mdata\u001b[0m \u001b[0;34m=\u001b[0m \u001b[0mdata\u001b[0m\u001b[0;34m.\u001b[0m\u001b[0mto\u001b[0m\u001b[0;34m(\u001b[0m\u001b[0mdevice\u001b[0m\u001b[0;34m)\u001b[0m\u001b[0;34m\u001b[0m\u001b[0;34m\u001b[0m\u001b[0m\n\u001b[1;32m     37\u001b[0m     \u001b[0;32mfor\u001b[0m \u001b[0mepoch\u001b[0m \u001b[0;32min\u001b[0m \u001b[0mrange\u001b[0m\u001b[0;34m(\u001b[0m\u001b[0;36m1\u001b[0m\u001b[0;34m,\u001b[0m \u001b[0;36m501\u001b[0m\u001b[0;34m)\u001b[0m\u001b[0;34m:\u001b[0m\u001b[0;34m\u001b[0m\u001b[0;34m\u001b[0m\u001b[0m\n\u001b[0;32m---> 38\u001b[0;31m         \u001b[0mloss\u001b[0m \u001b[0;34m=\u001b[0m \u001b[0mtrain\u001b[0m\u001b[0;34m(\u001b[0m\u001b[0mmodel\u001b[0m\u001b[0;34m,\u001b[0m \u001b[0mdata\u001b[0m\u001b[0;34m,\u001b[0m \u001b[0moptimizer\u001b[0m\u001b[0;34m,\u001b[0m \u001b[0mloss_fn\u001b[0m\u001b[0;34m,\u001b[0m \u001b[0membedding\u001b[0m\u001b[0;34m)\u001b[0m\u001b[0;34m\u001b[0m\u001b[0;34m\u001b[0m\u001b[0m\n\u001b[0m\u001b[1;32m     39\u001b[0m         \u001b[0mresult\u001b[0m \u001b[0;34m=\u001b[0m \u001b[0mtest\u001b[0m\u001b[0;34m(\u001b[0m\u001b[0mmodel\u001b[0m\u001b[0;34m,\u001b[0m \u001b[0mdata\u001b[0m\u001b[0;34m,\u001b[0m \u001b[0membedding\u001b[0m\u001b[0;34m)\u001b[0m\u001b[0;34m\u001b[0m\u001b[0;34m\u001b[0m\u001b[0m\n\u001b[1;32m     40\u001b[0m         \u001b[0mtrain_acc\u001b[0m\u001b[0;34m,\u001b[0m \u001b[0m_\u001b[0m\u001b[0;34m,\u001b[0m \u001b[0m_\u001b[0m\u001b[0;34m,\u001b[0m \u001b[0m_\u001b[0m\u001b[0;34m,\u001b[0m \u001b[0m_\u001b[0m \u001b[0;34m=\u001b[0m \u001b[0mresult\u001b[0m\u001b[0;34m\u001b[0m\u001b[0;34m\u001b[0m\u001b[0m\n",
            "\u001b[0;32m<ipython-input-7-d7498a48db09>\u001b[0m in \u001b[0;36mtrain\u001b[0;34m(model, data, optimizer, loss_fn, embedding)\u001b[0m\n\u001b[1;32m     11\u001b[0m     \u001b[0mpred\u001b[0m\u001b[0;34m,\u001b[0m \u001b[0mlabel\u001b[0m \u001b[0;34m=\u001b[0m \u001b[0moutput\u001b[0m\u001b[0;34m[\u001b[0m\u001b[0mdata\u001b[0m\u001b[0;34m.\u001b[0m\u001b[0mtrain_mask\u001b[0m\u001b[0;34m]\u001b[0m\u001b[0;34m,\u001b[0m \u001b[0mdata\u001b[0m\u001b[0;34m.\u001b[0m\u001b[0my\u001b[0m\u001b[0;34m[\u001b[0m\u001b[0mdata\u001b[0m\u001b[0;34m.\u001b[0m\u001b[0mtrain_mask\u001b[0m\u001b[0;34m]\u001b[0m\u001b[0;34m.\u001b[0m\u001b[0mview\u001b[0m\u001b[0;34m(\u001b[0m\u001b[0;34m-\u001b[0m\u001b[0;36m1\u001b[0m\u001b[0;34m)\u001b[0m\u001b[0;34m\u001b[0m\u001b[0;34m\u001b[0m\u001b[0m\n\u001b[1;32m     12\u001b[0m \u001b[0;34m\u001b[0m\u001b[0m\n\u001b[0;32m---> 13\u001b[0;31m     \u001b[0mloss\u001b[0m \u001b[0;34m=\u001b[0m \u001b[0mloss_fn\u001b[0m\u001b[0;34m(\u001b[0m\u001b[0mpred\u001b[0m\u001b[0;34m,\u001b[0m \u001b[0mlabel0\u001b[0m\u001b[0;34m)\u001b[0m\u001b[0;34m\u001b[0m\u001b[0;34m\u001b[0m\u001b[0m\n\u001b[0m\u001b[1;32m     14\u001b[0m \u001b[0;34m\u001b[0m\u001b[0m\n\u001b[1;32m     15\u001b[0m     \u001b[0mloss\u001b[0m\u001b[0;34m.\u001b[0m\u001b[0mbackward\u001b[0m\u001b[0;34m(\u001b[0m\u001b[0;34m)\u001b[0m  \u001b[0;31m# Derive gradients.\u001b[0m\u001b[0;34m\u001b[0m\u001b[0;34m\u001b[0m\u001b[0m\n",
            "\u001b[0;31mNameError\u001b[0m: name 'label0' is not defined"
          ]
        }
      ],
      "source": [
        "model = model_SAGE\n",
        "optimizer = torch.optim.Adam(model.parameters(), lr=0.001, weight_decay=5e-4)\n",
        "loss_fn = torch.nn.CrossEntropyLoss()\n",
        "runModel(model, data, optimizer, loss_fn, False)"
      ]
    },
    {
      "cell_type": "markdown",
      "metadata": {
        "id": "-Zx2f9ubiSgD"
      },
      "source": [
        "# Benchmark Models"
      ]
    },
    {
      "cell_type": "markdown",
      "metadata": {
        "id": "CZvqqsD6iYkI"
      },
      "source": [
        "## Use all features (without node embeddings)"
      ]
    },
    {
      "cell_type": "code",
      "execution_count": null,
      "metadata": {
        "id": "jxfejYy6ieNf"
      },
      "outputs": [],
      "source": [
        "from sklearn.ensemble import RandomForestClassifier\n",
        "from sklearn.svm import SVC\n",
        "from sklearn.linear_model import LogisticRegression\n",
        "import numpy as np\n",
        "\n",
        "train_label_benchmark = data.y[data.train_mask].cpu().numpy()\n",
        "test_label_benchmark = data.y[data.test_mask].cpu().numpy()"
      ]
    },
    {
      "cell_type": "code",
      "execution_count": null,
      "metadata": {
        "id": "pVheGh1pig_1"
      },
      "outputs": [],
      "source": [
        "train_dataset_AF = data.x[data.train_mask].cpu().numpy()\n",
        "test_dataset_AF = data.x[data.test_mask].cpu().numpy()"
      ]
    },
    {
      "cell_type": "markdown",
      "metadata": {
        "id": "O2ac-N34ix_8"
      },
      "source": [
        "### SVM"
      ]
    },
    {
      "cell_type": "code",
      "execution_count": null,
      "metadata": {
        "colab": {
          "background_save": true
        },
        "id": "axTRYMfCi3hU",
        "outputId": "237dcef2-78a1-47e2-de78-62757124417d"
      },
      "outputs": [
        {
          "name": "stdout",
          "output_type": "stream",
          "text": [
            "Test Accuracy: 86.00%\n",
            "Test Precision: 28.29%\n",
            "Test Recall: 75.25%\n",
            "Test F1: 41.12%\n"
          ]
        }
      ],
      "source": [
        "clf_SVM = SVC(class_weight=\"balanced\", probability=True)\n",
        "clf_SVM.fit(train_dataset_AF, train_label_benchmark)\n",
        "prediction = clf_SVM.predict(test_dataset_AF)\n",
        "\n",
        "SVM_acc = metrics.accuracy_score(test_label_benchmark, prediction)\n",
        "print(f'Test Accuracy: {100*SVM_acc:.2f}%')\n",
        "SVM_pre = metrics.precision_score(test_label_benchmark, prediction)\n",
        "print(f'Test Precision: {100*SVM_pre:.2f}%')\n",
        "SVM_recall = metrics.recall_score(test_label_benchmark, prediction)\n",
        "print(f'Test Recall: {100*SVM_recall:.2f}%')\n",
        "SVM_f1 = metrics.f1_score(test_label_benchmark, prediction)\n",
        "print(f'Test F1: {100*SVM_f1:.2f}%')"
      ]
    },
    {
      "cell_type": "markdown",
      "metadata": {
        "id": "QkyKrez2jm4I"
      },
      "source": [
        "### RandomForest"
      ]
    },
    {
      "cell_type": "code",
      "execution_count": null,
      "metadata": {
        "colab": {
          "background_save": true
        },
        "id": "6ATLwU9Sjqxz",
        "outputId": "edb7cfcd-e533-48fe-efe7-56dc78d8b240"
      },
      "outputs": [
        {
          "name": "stdout",
          "output_type": "stream",
          "text": [
            "Test Accuracy: 97.76%\n",
            "Test Precision: 92.26%\n",
            "Test Recall: 71.56%\n",
            "Test F1: 80.60%\n"
          ]
        }
      ],
      "source": [
        "clf_RF = RandomForestClassifier(n_estimators=500, max_depth=15, random_state=0, class_weight=\"balanced\")\n",
        "clf_RF.fit(train_dataset_AF, train_label_benchmark)\n",
        "prediction = clf_RF.predict(test_dataset_AF)\n",
        "\n",
        "RF_acc = metrics.accuracy_score(test_label_benchmark, prediction)\n",
        "print(f'Test Accuracy: {100*RF_acc:.2f}%')\n",
        "RF_pre = metrics.precision_score(test_label_benchmark, prediction)\n",
        "print(f'Test Precision: {100*RF_pre:.2f}%')\n",
        "RF_recall = metrics.recall_score(test_label_benchmark, prediction)\n",
        "print(f'Test Recall: {100*RF_recall:.2f}%')\n",
        "RF_f1 = metrics.f1_score(test_label_benchmark, prediction)\n",
        "print(f'Test F1: {100*RF_f1:.2f}%')"
      ]
    },
    {
      "cell_type": "markdown",
      "metadata": {
        "id": "GZBsuqLTfiAG"
      },
      "source": [
        "Sort features by important scores"
      ]
    },
    {
      "cell_type": "code",
      "execution_count": null,
      "metadata": {
        "colab": {
          "background_save": true
        },
        "id": "98Fz21P0dd84",
        "outputId": "5fb20d3e-b887-465b-e390-cb97138eb407"
      },
      "outputs": [
        {
          "data": {
            "text/plain": [
              "array([ 46,  52,  54,  42,  40,  48, 131,  89,   4,  13,  17,  53,   1,\n",
              "        64, 137,  75,  45,   3,  22,  60,  51,  66,  58,  39,   5,  28,\n",
              "         9,  65,  99, 102,  30, 155, 135, 162, 100,  59,  24,   7,  41,\n",
              "        76,  79, 138,  21, 141,  27,  47,  15,  95,  88, 160, 136,  80,\n",
              "       153,  83,  84,  78,  77, 157, 124,  82,   0, 126,   8,  16,  23,\n",
              "        19, 105, 101,  10, 158,  18,  57,  20, 143, 159, 106,   2,  63,\n",
              "        90, 161, 108,  92,  91,  87, 129,  29, 144, 118, 142,  94,  93,\n",
              "       130, 120,  96,  81, 123, 156, 154, 132, 125, 107, 113,  72,  12,\n",
              "       104,  61, 139,  85, 145, 149, 152,  70, 114,  86, 119,  71,  73,\n",
              "       103, 150, 146,  56, 151,  67,  55, 134, 140, 147, 164, 163,  11,\n",
              "       133,  74, 111,  32,  97, 148,  25, 112,  34,  98,  68,  36,  31,\n",
              "        26, 109, 110,  43,  33, 121, 117,  49,  62, 115, 122, 127,  50,\n",
              "        44, 128, 116,  35,  37,  69,  38,   6,  14])"
            ]
          },
          "execution_count": 15,
          "metadata": {},
          "output_type": "execute_result"
        }
      ],
      "source": [
        "RF_important_features = np.argsort(clf_RF.feature_importances_)[::-1]\n",
        "RF_important_features"
      ]
    },
    {
      "cell_type": "markdown",
      "metadata": {
        "id": "p16xCLJLj9aO"
      },
      "source": [
        "## Use node embeddings"
      ]
    },
    {
      "cell_type": "markdown",
      "metadata": {
        "id": "nej6sR_Qk6vv"
      },
      "source": [
        "### GCN embedding with SVM"
      ]
    },
    {
      "cell_type": "code",
      "execution_count": null,
      "metadata": {
        "id": "98GuZOywQZN4"
      },
      "outputs": [],
      "source": [
        "optimizer = torch.optim.Adam(model.parameters(), lr=0.001, weight_decay=5e-4)"
      ]
    },
    {
      "cell_type": "code",
      "execution_count": null,
      "metadata": {
        "colab": {
          "background_save": true
        },
        "id": "_DsnttmXiQa8"
      },
      "outputs": [],
      "source": [
        "embeddings = get_embeddings(model_GCN, data, optimizer, loss_fn)"
      ]
    },
    {
      "cell_type": "code",
      "execution_count": null,
      "metadata": {
        "colab": {
          "background_save": true
        },
        "id": "LJjRVp5dkMBt"
      },
      "outputs": [],
      "source": [
        "train_dataset_NE = embeddings[data.train_mask.cpu()]\n",
        "test_dataset_NE = embeddings[data.test_mask.cpu()]"
      ]
    },
    {
      "cell_type": "code",
      "execution_count": null,
      "metadata": {
        "colab": {
          "background_save": true
        },
        "id": "6CxvSCnTkP_o",
        "outputId": "13754b2d-ef3d-4689-8c92-cc456c8e45c7"
      },
      "outputs": [
        {
          "name": "stdout",
          "output_type": "stream",
          "text": [
            "Test Accuracy: 71.70%\n",
            "Test Precision: 15.47%\n",
            "Test Recall: 75.16%\n",
            "Test F1: 25.66%\n"
          ]
        }
      ],
      "source": [
        "clf_SVM_NE = SVC(class_weight=\"balanced\")\n",
        "clf_SVM_NE.fit(train_dataset_NE, train_label_benchmark)\n",
        "prediction_NE = clf_SVM_NE.predict(test_dataset_NE)\n",
        "\n",
        "SVM_NE_acc = metrics.accuracy_score(test_label_benchmark, prediction_NE)\n",
        "print(f'Test Accuracy: {100*SVM_NE_acc:.2f}%')\n",
        "SVM_NE_pre = metrics.precision_score(test_label_benchmark, prediction_NE)\n",
        "print(f'Test Precision: {100*SVM_NE_pre:.2f}%')\n",
        "SVM_NE_recall = metrics.recall_score(test_label_benchmark, prediction_NE)\n",
        "print(f'Test Recall: {100*SVM_NE_recall:.2f}%')\n",
        "SVM_NE_f1 = metrics.f1_score(test_label_benchmark, prediction_NE)\n",
        "print(f'Test F1: {100*SVM_NE_f1:.2f}%')"
      ]
    },
    {
      "cell_type": "markdown",
      "metadata": {
        "id": "G1nVp8NBk93M"
      },
      "source": [
        "### GCN embedding with RandomForest"
      ]
    },
    {
      "cell_type": "code",
      "execution_count": null,
      "metadata": {
        "colab": {
          "background_save": true
        },
        "id": "J-lQmXtIlA58",
        "outputId": "59c0d0f3-995a-4748-a2bd-86a4ab5d2a57"
      },
      "outputs": [
        {
          "name": "stdout",
          "output_type": "stream",
          "text": [
            "Test Accuracy: 84.70%\n",
            "Test Precision: 23.03%\n",
            "Test Recall: 57.89%\n",
            "Test F1: 32.96%\n"
          ]
        }
      ],
      "source": [
        "clf_RF_NE = RandomForestClassifier(n_estimators=500, max_depth=15, random_state=0, class_weight=\"balanced\")\n",
        "clf_RF_NE.fit(train_dataset_NE, train_label_benchmark)\n",
        "prediction_NE = clf_RF_NE.predict(test_dataset_NE)\n",
        "\n",
        "RF_NE_acc = metrics.accuracy_score(test_label_benchmark, prediction_NE)\n",
        "print(f'Test Accuracy: {100*RF_NE_acc:.2f}%')\n",
        "RF_NE_pre = metrics.precision_score(test_label_benchmark, prediction_NE)\n",
        "print(f'Test Precision: {100*RF_NE_pre:.2f}%')\n",
        "RF_NE_recall = metrics.recall_score(test_label_benchmark, prediction_NE)\n",
        "print(f'Test Recall: {100*RF_NE_recall:.2f}%')\n",
        "RF_NE_f1 = metrics.f1_score(test_label_benchmark, prediction_NE)\n",
        "print(f'Test F1: {100*RF_NE_f1:.2f}%')"
      ]
    },
    {
      "cell_type": "markdown",
      "metadata": {
        "id": "Aj5tm1ddlzF-"
      },
      "source": [
        "### SAGE embedding with SVM"
      ]
    },
    {
      "cell_type": "code",
      "execution_count": null,
      "metadata": {
        "colab": {
          "background_save": true
        },
        "id": "3ihj4oBEl29Q"
      },
      "outputs": [],
      "source": [
        "embeddings = get_embeddings(model_SAGE, data, optimizer, loss_fn)"
      ]
    },
    {
      "cell_type": "code",
      "execution_count": null,
      "metadata": {
        "colab": {
          "background_save": true
        },
        "id": "AIgj2t483Dul"
      },
      "outputs": [],
      "source": [
        "train_dataset_NE = embeddings[data.train_mask.cpu()]\n",
        "test_dataset_NE = embeddings[data.test_mask.cpu()]"
      ]
    },
    {
      "cell_type": "code",
      "execution_count": null,
      "metadata": {
        "colab": {
          "background_save": true
        },
        "id": "OmVFXNLkmFVd",
        "outputId": "abca7d69-3b47-49de-d087-d21dba2a7a77"
      },
      "outputs": [
        {
          "name": "stdout",
          "output_type": "stream",
          "text": [
            "Test Accuracy: 64.37%\n",
            "Test Precision: 13.06%\n",
            "Test Recall: 79.22%\n",
            "Test F1: 22.42%\n"
          ]
        }
      ],
      "source": [
        "clf = SVC(class_weight=\"balanced\")\n",
        "clf.fit(train_dataset_NE, train_label_benchmark)\n",
        "prediction_NE = clf.predict(test_dataset_NE)\n",
        "\n",
        "SVM_NE_acc = metrics.accuracy_score(test_label_benchmark, prediction_NE)\n",
        "print(f'Test Accuracy: {100*SVM_NE_acc:.2f}%')\n",
        "SVM_NE_pre = metrics.precision_score(test_label_benchmark, prediction_NE)\n",
        "print(f'Test Precision: {100*SVM_NE_pre:.2f}%')\n",
        "SVM_NE_recall = metrics.recall_score(test_label_benchmark, prediction_NE)\n",
        "print(f'Test Recall: {100*SVM_NE_recall:.2f}%')\n",
        "SVM_NE_f1 = metrics.f1_score(test_label_benchmark, prediction_NE)\n",
        "print(f'Test F1: {100*SVM_NE_f1:.2f}%')"
      ]
    },
    {
      "cell_type": "markdown",
      "metadata": {
        "id": "oJ3TBYqBmIO9"
      },
      "source": [
        "### SAGE embedding with RandomForest"
      ]
    },
    {
      "cell_type": "code",
      "execution_count": null,
      "metadata": {
        "colab": {
          "background_save": true
        },
        "id": "avYyBc0HmLhk",
        "outputId": "68e69298-8195-42ed-ee88-0366f8f5190b"
      },
      "outputs": [
        {
          "name": "stdout",
          "output_type": "stream",
          "text": [
            "Test Accuracy: 84.49%\n",
            "Test Precision: 22.34%\n",
            "Test Recall: 56.05%\n",
            "Test F1: 31.95%\n"
          ]
        }
      ],
      "source": [
        "clf = RandomForestClassifier(n_estimators=500, max_depth=15, random_state=0, class_weight=\"balanced\")\n",
        "clf.fit(train_dataset_NE, train_label_benchmark)\n",
        "prediction_NE = clf.predict(test_dataset_NE)\n",
        "\n",
        "RF_NE_acc = metrics.accuracy_score(test_label_benchmark, prediction_NE)\n",
        "print(f'Test Accuracy: {100*RF_NE_acc:.2f}%')\n",
        "RF_NE_pre = metrics.precision_score(test_label_benchmark, prediction_NE)\n",
        "print(f'Test Precision: {100*RF_NE_pre:.2f}%')\n",
        "RF_NE_recall = metrics.recall_score(test_label_benchmark, prediction_NE)\n",
        "print(f'Test Recall: {100*RF_NE_recall:.2f}%')\n",
        "RF_NE_f1 = metrics.f1_score(test_label_benchmark, prediction_NE)\n",
        "print(f'Test F1: {100*RF_NE_f1:.2f}%')"
      ]
    },
    {
      "cell_type": "markdown",
      "metadata": {
        "id": "cn6GmDmImebK"
      },
      "source": [
        "### GAT embedding with SVM"
      ]
    },
    {
      "cell_type": "code",
      "execution_count": null,
      "metadata": {
        "colab": {
          "background_save": true
        },
        "id": "VqzSubKcmhzW"
      },
      "outputs": [],
      "source": [
        "embeddings = get_embeddings(model_GAT, data, optimizer, loss_fn)"
      ]
    },
    {
      "cell_type": "code",
      "execution_count": null,
      "metadata": {
        "colab": {
          "background_save": true
        },
        "id": "GGIesnW73mpm"
      },
      "outputs": [],
      "source": [
        "train_dataset_NE = embeddings[data.train_mask.cpu()]\n",
        "test_dataset_NE = embeddings[data.test_mask.cpu()]"
      ]
    },
    {
      "cell_type": "code",
      "execution_count": null,
      "metadata": {
        "colab": {
          "background_save": true
        },
        "id": "64z5yfiBmkTT",
        "outputId": "3b8f8ee6-1d6c-473b-b396-5251edac75b5"
      },
      "outputs": [
        {
          "name": "stdout",
          "output_type": "stream",
          "text": [
            "Test Accuracy: 74.45%\n",
            "Test Precision: 16.91%\n",
            "Test Recall: 74.98%\n",
            "Test F1: 27.60%\n"
          ]
        }
      ],
      "source": [
        "clf = SVC(class_weight=\"balanced\")\n",
        "clf.fit(train_dataset_NE, train_label_benchmark)\n",
        "prediction_NE = clf.predict(test_dataset_NE)\n",
        "\n",
        "SVM_NE_acc = metrics.accuracy_score(test_label_benchmark, prediction_NE)\n",
        "print(f'Test Accuracy: {100*SVM_NE_acc:.2f}%')\n",
        "SVM_NE_pre = metrics.precision_score(test_label_benchmark, prediction_NE)\n",
        "print(f'Test Precision: {100*SVM_NE_pre:.2f}%')\n",
        "SVM_NE_recall = metrics.recall_score(test_label_benchmark, prediction_NE)\n",
        "print(f'Test Recall: {100*SVM_NE_recall:.2f}%')\n",
        "SVM_NE_f1 = metrics.f1_score(test_label_benchmark, prediction_NE)\n",
        "print(f'Test F1: {100*SVM_NE_f1:.2f}%')"
      ]
    },
    {
      "cell_type": "markdown",
      "metadata": {
        "id": "ExOTAB1HmvDn"
      },
      "source": [
        "### GAT embedding with RandomForest"
      ]
    },
    {
      "cell_type": "code",
      "execution_count": null,
      "metadata": {
        "colab": {
          "background_save": true,
          "base_uri": "https://localhost:8080/",
          "height": 385
        },
        "id": "ZabhGDP_myNz",
        "outputId": "74b7ca74-dd81-4445-c1bc-889235b9a4ff"
      },
      "outputs": [
        {
          "name": "stdout",
          "output_type": "stream",
          "text": [
            "Test Accuracy: 87.38%\n",
            "Test Precision: 26.57%\n",
            "Test Recall: 53.46%\n",
            "Test F1: 35.50%\n"
          ]
        }
      ],
      "source": [
        "clf = RandomForestClassifier(n_estimators=500, max_depth=15, random_state=0, class_weight=\"balanced\")\n",
        "clf.fit(train_dataset_NE, train_label_benchmark)\n",
        "prediction_NE = clf.predict(test_dataset_NE)\n",
        "\n",
        "RF_NE_acc = metrics.accuracy_score(test_label_benchmark, prediction_NE)\n",
        "print(f'Test Accuracy: {100*RF_NE_acc:.2f}%')\n",
        "RF_NE_pre = metrics.precision_score(test_label_benchmark, prediction_NE)\n",
        "print(f'Test Precision: {100*RF_NE_pre:.2f}%')\n",
        "RF_NE_recall = metrics.recall_score(test_label_benchmark, prediction_NE)\n",
        "print(f'Test Recall: {100*RF_NE_recall:.2f}%')\n",
        "RF_NE_f1 = metrics.f1_score(test_label_benchmark, prediction_NE)\n",
        "print(f'Test F1: {100*RF_NE_f1:.2f}%')"
      ]
    },
    {
      "cell_type": "markdown",
      "metadata": {
        "id": "UEnLyAt7m9Nt"
      },
      "source": [
        "## Use all features and node embeddings"
      ]
    },
    {
      "cell_type": "markdown",
      "metadata": {
        "id": "4wRWj_h7nInx"
      },
      "source": [
        "### GAT embedding and all features with SVM"
      ]
    },
    {
      "cell_type": "code",
      "execution_count": null,
      "metadata": {
        "id": "bxzHp6RBnBgO"
      },
      "outputs": [],
      "source": [
        "embeddings = get_embeddings(model_GAT, data, optimizer, loss_fn)\n",
        "train_dataset_NE = embeddings[data.train_mask.cpu()]\n",
        "test_dataset_NE = embeddings[data.test_mask.cpu()]"
      ]
    },
    {
      "cell_type": "code",
      "execution_count": null,
      "metadata": {
        "id": "sml8GXpfnxmd"
      },
      "outputs": [],
      "source": [
        "train_dataset_AFNE = np.concatenate((train_dataset_AF, train_dataset_NE), axis=1)\n",
        "test_dataset_AFNE = np.concatenate((test_dataset_AF, test_dataset_NE), axis=1)"
      ]
    },
    {
      "cell_type": "code",
      "execution_count": null,
      "metadata": {
        "colab": {
          "base_uri": "https://localhost:8080/"
        },
        "id": "J4wD56wknlqo",
        "outputId": "8596ee9e-4d54-4002-aab7-4bb42c37c259"
      },
      "outputs": [
        {
          "name": "stdout",
          "output_type": "stream",
          "text": [
            "Test Accuracy: 81.99%\n",
            "Test Precision: 22.97%\n",
            "Test Recall: 75.35%\n",
            "Test F1: 35.21%\n"
          ]
        }
      ],
      "source": [
        "clf = SVC(class_weight=\"balanced\")\n",
        "clf.fit(train_dataset_AFNE, train_label_benchmark)\n",
        "prediction_AFNE = clf.predict(test_dataset_AFNE)\n",
        "\n",
        "SVM_AFNE_acc = metrics.accuracy_score(test_label_benchmark, prediction_AFNE)\n",
        "print(f'Test Accuracy: {100*SVM_AFNE_acc:.2f}%')\n",
        "SVM_AFNE_pre = metrics.precision_score(test_label_benchmark, prediction_AFNE)\n",
        "print(f'Test Precision: {100*SVM_AFNE_pre:.2f}%')\n",
        "SVM_AFNE_recall = metrics.recall_score(test_label_benchmark, prediction_AFNE)\n",
        "print(f'Test Recall: {100*SVM_AFNE_recall:.2f}%')\n",
        "SVM_AFNE_f1 = metrics.f1_score(test_label_benchmark, prediction_AFNE)\n",
        "print(f'Test F1: {100*SVM_AFNE_f1:.2f}%')"
      ]
    },
    {
      "cell_type": "markdown",
      "metadata": {
        "id": "r3qsNbfLoioe"
      },
      "source": [
        "### GAT embedding and all features with RandomForest"
      ]
    },
    {
      "cell_type": "code",
      "execution_count": null,
      "metadata": {
        "colab": {
          "base_uri": "https://localhost:8080/"
        },
        "id": "Z04rr-ZbohPJ",
        "outputId": "1e1bca3f-828c-4b15-fc1c-14d6c05bb3d8"
      },
      "outputs": [
        {
          "name": "stdout",
          "output_type": "stream",
          "text": [
            "Test Accuracy: 97.55%\n",
            "Test Precision: 89.02%\n",
            "Test Recall: 71.10%\n",
            "Test F1: 79.06%\n"
          ]
        }
      ],
      "source": [
        "clf = RandomForestClassifier(n_estimators=500, max_depth=15, random_state=0, class_weight=\"balanced\")\n",
        "clf.fit(train_dataset_AFNE, train_label_benchmark)\n",
        "prediction_AFNE = clf.predict(test_dataset_AFNE)\n",
        "\n",
        "RF_AFNE_acc = metrics.accuracy_score(test_label_benchmark, prediction_AFNE)\n",
        "print(f'Test Accuracy: {100*RF_AFNE_acc:.2f}%')\n",
        "RF_AFNE_pre = metrics.precision_score(test_label_benchmark, prediction_AFNE)\n",
        "print(f'Test Precision: {100*RF_AFNE_pre:.2f}%')\n",
        "RF_AFNE_recall = metrics.recall_score(test_label_benchmark, prediction_AFNE)\n",
        "print(f'Test Recall: {100*RF_AFNE_recall:.2f}%')\n",
        "RF_AFNE_f1 = metrics.f1_score(test_label_benchmark, prediction_AFNE)\n",
        "print(f'Test F1: {100*RF_AFNE_f1:.2f}%')"
      ]
    },
    {
      "cell_type": "markdown",
      "metadata": {
        "id": "dU6ZXh7CfUbh"
      },
      "source": [
        "Sort features by important scores"
      ]
    },
    {
      "cell_type": "code",
      "execution_count": null,
      "metadata": {
        "colab": {
          "base_uri": "https://localhost:8080/"
        },
        "id": "9RPfqK4peeZ2",
        "outputId": "d5a52a54-7c3d-4f99-a076-aece6e13f33c"
      },
      "outputs": [
        {
          "data": {
            "text/plain": [
              "array([ 40,  54,  52,  46,  48,  42, 131, 137,   4,  89,  13,   1,  17,\n",
              "        28,   3,  58,  22,  51,  64,  59,  53,  75,  60,  66,  45, 155,\n",
              "        39,   5,  24,  47,  95,  76, 141, 162,  30,   9,  65, 102,  78,\n",
              "        99, 100,  77,  27, 138, 160,  83, 135,  41,  21,  88,  84,  82,\n",
              "        79, 143, 136, 153,  19, 158,   7, 124,  20, 118,  29, 157, 126,\n",
              "        80,  10,  16,  15,   0, 106,   8, 101, 140, 120,  63,  90, 316,\n",
              "        23, 105,  57,  81, 139,  73, 159,  11,  92, 161,  18,   2,  91,\n",
              "       123,  67, 107, 125,  87, 108, 129,  94,  55, 133, 229, 154, 104,\n",
              "       149, 223,  86,  85, 145, 193, 277, 156, 103,  31,  96, 560,  32,\n",
              "       577, 119, 301, 142,  68, 621, 244,  62, 130,  61, 132,  12,  56,\n",
              "       364, 144,  93, 191, 146,  71,  98, 509, 186,  72,  74,  26, 152,\n",
              "       559, 163, 134, 151,  44, 405, 675,  70, 150, 164, 112, 554, 114,\n",
              "       111, 567, 293,  97, 634, 491, 187,  49, 147,  25, 251, 328, 329,\n",
              "       315, 389, 540, 388, 391, 113, 526,  43, 317, 445, 628,  36, 252,\n",
              "       579, 245, 253,  34, 636, 592, 285, 535, 242, 440, 605, 241, 556,\n",
              "       504, 550, 574, 606, 407, 450, 386, 507, 231, 448, 624, 437, 396,\n",
              "       176, 576, 213, 209, 330, 629, 505, 385, 597, 228, 531, 438, 305,\n",
              "       409, 215, 339, 318, 188, 170, 477, 439, 344, 563, 335, 462, 148,\n",
              "       412, 415, 601, 171, 172, 237, 510, 471, 110, 240, 177, 408, 626,\n",
              "       660, 227, 669, 444, 481, 117, 443, 265, 464, 286, 278, 275, 461,\n",
              "       178, 300, 264, 174, 484, 367, 470, 281, 465, 356, 616, 431, 218,\n",
              "       667, 346, 433, 515, 311, 645, 262, 611, 569, 602, 672, 337,  50,\n",
              "       664, 362, 516, 638, 655, 181, 589, 398, 333, 303, 612, 369, 271,\n",
              "       668, 261, 523, 420, 399, 637, 475, 600, 614, 184, 312, 380, 276,\n",
              "       310, 517, 647, 424, 492, 284, 543, 594, 495, 434, 410, 295, 617,\n",
              "       203, 332, 441, 243, 422, 548, 487, 649, 258, 644, 659, 633, 528,\n",
              "       541, 571, 643, 555, 185, 222, 618, 642, 288, 506, 458, 427, 297,\n",
              "       518, 501, 588, 195, 190, 513, 168, 620, 498, 596, 291, 128, 319,\n",
              "       608, 610, 109, 419, 342,  33, 674, 234, 533, 308, 623, 480, 653,\n",
              "       169, 511, 449, 500, 455, 377, 166, 586, 343, 392, 192, 607, 671,\n",
              "       289, 572, 401, 478, 512, 652, 179, 503, 395, 406, 320, 489, 299,\n",
              "       341, 499, 635, 609, 496, 321, 468, 603, 247, 212, 314, 599, 298,\n",
              "       476, 283, 211, 394, 530, 350, 372, 446, 210, 173, 232, 619, 194,\n",
              "       384, 661, 313, 418, 542, 575, 467, 673, 639, 198, 248, 340, 383,\n",
              "       357, 207, 370, 578, 238, 272, 474, 456, 219, 497, 562, 366, 353,\n",
              "       573, 324, 416, 632, 397, 534, 206, 442, 425, 561, 549, 309, 417,\n",
              "       354, 429, 352, 221, 294, 665, 488, 583, 502, 663, 451, 544, 670,\n",
              "       564, 208, 282, 631, 200, 167, 625, 447, 197, 640, 472, 268, 529,\n",
              "       351, 590, 519, 360, 266, 250, 225, 327, 493, 581, 615, 486, 381,\n",
              "       527, 202, 269, 239, 274, 598, 414, 479, 547, 115, 307, 216, 338,\n",
              "       359, 553, 127, 121, 411, 255, 646, 230, 532, 648, 430, 490, 428,\n",
              "       582, 387, 591, 613, 402, 280, 514, 469, 189, 676, 585, 254, 485,\n",
              "       404, 630, 435, 182, 260, 373, 436, 199, 379, 463, 287, 551, 224,\n",
              "       466, 122, 257, 658, 390, 361, 473, 453, 522, 382, 304, 323, 246,\n",
              "       537, 460, 656, 654, 349, 290, 538, 423, 263, 165,  35, 325, 666,\n",
              "       292, 233, 641, 358, 432, 566, 651, 593, 214, 326, 482, 494, 116,\n",
              "       662, 371, 483, 201, 568, 587, 426, 249, 521, 256, 365, 508, 175,\n",
              "       457, 378, 302, 595, 204, 524, 196, 650, 217, 454, 267, 536, 180,\n",
              "       273, 393, 336, 348, 347, 205, 520, 558, 539, 363, 403, 220, 374,\n",
              "       413, 557, 657, 259, 400, 296, 604, 368, 334, 355, 375, 552, 459,\n",
              "       546, 580, 226, 279, 331, 306, 525, 452, 236, 345, 376, 570, 421,\n",
              "       545, 565, 627, 270,  69, 322, 584, 622, 235, 183,  37,  38,   6,\n",
              "        14])"
            ]
          },
          "execution_count": 19,
          "metadata": {},
          "output_type": "execute_result"
        }
      ],
      "source": [
        "RF_important_features = np.argsort(clf.feature_importances_)[::-1]\n",
        "RF_important_features"
      ]
    },
    {
      "cell_type": "markdown",
      "metadata": {
        "id": "x6UweIWDpXEw"
      },
      "source": [
        "# Explain"
      ]
    },
    {
      "cell_type": "markdown",
      "metadata": {
        "id": "xjfTIN9ik3Xo"
      },
      "source": [
        "## GNNExplainer"
      ]
    },
    {
      "cell_type": "markdown",
      "metadata": {
        "id": "s-79lEczOqFZ"
      },
      "source": [
        "### GCN Explain"
      ]
    },
    {
      "cell_type": "code",
      "execution_count": null,
      "metadata": {
        "id": "1fHkXiYeuPeS"
      },
      "outputs": [],
      "source": [
        "from torch_geometric.nn import Set2Set\n",
        "from torch_geometric.explain import GNNExplainer, Explainer, CaptumExplainer\n",
        "import torch_geometric.transforms as TabError\n",
        "from tqdm import tqdm, trange\n",
        "import matplotlib.pyplot as plt"
      ]
    },
    {
      "cell_type": "code",
      "execution_count": null,
      "metadata": {
        "id": "MY2bpX3Su_TA"
      },
      "outputs": [],
      "source": [
        "class GCN(torch.nn.Module):\n",
        "    def __init__(self, hidden_channels, num_layers, dropout):\n",
        "        super().__init__()\n",
        "        torch.manual_seed(777)\n",
        "\n",
        "        # Convolution layers\n",
        "        if num_layers > 1:\n",
        "            self.convs = nn.ModuleList([GCNConv(dataset.num_features, hidden_channels)])\n",
        "            self.convs.extend([GCNConv(hidden_channels, hidden_channels) for i in range(num_layers - 2)])\n",
        "            self.convs.append(GCNConv(hidden_channels, dataset.num_classes))\n",
        "\n",
        "            # Batch normilization\n",
        "            self.bns = nn.ModuleList([nn.BatchNorm1d(hidden_channels)\n",
        "                                     for i in range(num_layers - 1)])\n",
        "        else:\n",
        "            self.convs = nn.ModuleList([GCNConv(dataset.num_features, dataset.num_classes)])\n",
        "            self.bns = nn.ModuleList([])\n",
        "\n",
        "        # Softmax layer\n",
        "        self.softmax = nn.Softmax(1)\n",
        "\n",
        "        # Dropout\n",
        "        self.dropout = nn.Dropout(dropout)\n",
        "\n",
        "    # initialize parameters\n",
        "    def reset_parameters(self):\n",
        "        for conv in self.convs:\n",
        "            conv.reset_parameters()\n",
        "        for bn in self.bns:\n",
        "            bn.reset_parameters()\n",
        "\n",
        "    def forward(self, x, edge_index):\n",
        "        for gcn, bn in zip(self.convs, self.bns):\n",
        "            x = self.dropout(torch.relu(bn(gcn(x, edge_index))))\n",
        "        x = self.convs[-1](x, edge_index)\n",
        "        return self.softmax(x)"
      ]
    },
    {
      "cell_type": "code",
      "execution_count": null,
      "metadata": {
        "id": "HY3fzvdcvIab"
      },
      "outputs": [],
      "source": [
        "model=GCN(hidden_channels=128, num_layers=2, dropout=0.3).to(device)\n",
        "data = data.to(device)"
      ]
    },
    {
      "cell_type": "code",
      "execution_count": null,
      "metadata": {
        "colab": {
          "base_uri": "https://localhost:8080/"
        },
        "id": "7UsfYj-qxKBe",
        "outputId": "e50cb558-4331-4812-c3ae-0ae90f94e44e"
      },
      "outputs": [
        {
          "output_type": "stream",
          "name": "stdout",
          "text": [
            "Feature importance plot has been saved to 'feature_importance_GCN.png'\n"
          ]
        }
      ],
      "source": [
        "explainer = Explainer(\n",
        "    model=model,\n",
        "    algorithm=GNNExplainer(epochs=200),\n",
        "    explanation_type='model',\n",
        "    node_mask_type='attributes',\n",
        "    edge_mask_type='object',\n",
        "    model_config=dict(\n",
        "        mode='binary_classification',\n",
        "        task_level='node',\n",
        "        return_type='probs',\n",
        "    ),\n",
        ")\n",
        "\n",
        "explanation_GCN = explainer(data.x, data.edge_index)\n",
        "path = 'feature_importance_GCN.png'\n",
        "explanation_GCN.visualize_feature_importance(path, top_k=20)\n",
        "print(f\"Feature importance plot has been saved to '{path}'\")\n",
        "\n"
      ]
    },
    {
      "cell_type": "code",
      "execution_count": null,
      "metadata": {
        "colab": {
          "base_uri": "https://localhost:8080/",
          "height": 242
        },
        "id": "tKOePa6IO4UH",
        "outputId": "13faf6df-cf7b-4876-fa2f-4975b266aa3d"
      },
      "outputs": [
        {
          "output_type": "error",
          "ename": "NameError",
          "evalue": "ignored",
          "traceback": [
            "\u001b[0;31m---------------------------------------------------------------------------\u001b[0m",
            "\u001b[0;31mNameError\u001b[0m                                 Traceback (most recent call last)",
            "\u001b[0;32m<ipython-input-14-65d8dcc11650>\u001b[0m in \u001b[0;36m<cell line: 2>\u001b[0;34m()\u001b[0m\n\u001b[1;32m      1\u001b[0m \u001b[0mGCN_node_importantScore\u001b[0m \u001b[0;34m=\u001b[0m \u001b[0mexplanation_GCN\u001b[0m\u001b[0;34m.\u001b[0m\u001b[0mnode_mask\u001b[0m\u001b[0;34m.\u001b[0m\u001b[0msum\u001b[0m\u001b[0;34m(\u001b[0m\u001b[0;36m0\u001b[0m\u001b[0;34m)\u001b[0m\u001b[0;34m.\u001b[0m\u001b[0mcpu\u001b[0m\u001b[0;34m(\u001b[0m\u001b[0;34m)\u001b[0m\u001b[0;34m.\u001b[0m\u001b[0mnumpy\u001b[0m\u001b[0;34m(\u001b[0m\u001b[0;34m)\u001b[0m\u001b[0;34m\u001b[0m\u001b[0;34m\u001b[0m\u001b[0m\n\u001b[0;32m----> 2\u001b[0;31m \u001b[0mGCN_node_importantNorm\u001b[0m \u001b[0;34m=\u001b[0m \u001b[0mnp\u001b[0m\u001b[0;34m.\u001b[0m\u001b[0mlinalg\u001b[0m\u001b[0;34m.\u001b[0m\u001b[0mnorm\u001b[0m\u001b[0;34m(\u001b[0m\u001b[0mGCN_node_importantScore\u001b[0m\u001b[0;34m)\u001b[0m\u001b[0;34m\u001b[0m\u001b[0;34m\u001b[0m\u001b[0m\n\u001b[0m\u001b[1;32m      3\u001b[0m \u001b[0mGCN_node_importantScore\u001b[0m \u001b[0;34m=\u001b[0m \u001b[0mGCN_node_importantScore\u001b[0m \u001b[0;34m/\u001b[0m \u001b[0mGCN_node_importantNorm\u001b[0m\u001b[0;34m\u001b[0m\u001b[0;34m\u001b[0m\u001b[0m\n\u001b[1;32m      4\u001b[0m \u001b[0mGCN_important_features\u001b[0m \u001b[0;34m=\u001b[0m \u001b[0mnp\u001b[0m\u001b[0;34m.\u001b[0m\u001b[0margsort\u001b[0m\u001b[0;34m(\u001b[0m\u001b[0mGCN_node_importantScore\u001b[0m\u001b[0;34m)\u001b[0m\u001b[0;34m[\u001b[0m\u001b[0;34m:\u001b[0m\u001b[0;34m:\u001b[0m\u001b[0;34m-\u001b[0m\u001b[0;36m1\u001b[0m\u001b[0;34m]\u001b[0m\u001b[0;34m\u001b[0m\u001b[0;34m\u001b[0m\u001b[0m\n\u001b[1;32m      5\u001b[0m \u001b[0mGCN_important_features\u001b[0m\u001b[0;34m\u001b[0m\u001b[0;34m\u001b[0m\u001b[0m\n",
            "\u001b[0;31mNameError\u001b[0m: name 'np' is not defined"
          ]
        }
      ],
      "source": [
        "GCN_node_importantScore = explanation_GCN.node_mask.sum(0).cpu().numpy()\n",
        "GCN_node_importantNorm = np.linalg.norm(GCN_node_importantScore)\n",
        "GCN_node_importantScore = GCN_node_importantScore / GCN_node_importantNorm\n",
        "GCN_important_features = np.argsort(GCN_node_importantScore)[::-1]\n",
        "GCN_important_features"
      ]
    },
    {
      "cell_type": "markdown",
      "metadata": {
        "id": "TmpNDDA9Oh3m"
      },
      "source": [
        "### GAT Explain"
      ]
    },
    {
      "cell_type": "code",
      "execution_count": null,
      "metadata": {
        "id": "ysC9d82BsneO"
      },
      "outputs": [],
      "source": [
        "class GAT(torch.nn.Module):\n",
        "    def __init__(self, hidden_channels, heads, num_layers, dropout):\n",
        "        super().__init__()\n",
        "        torch.manual_seed(777)\n",
        "        self.num_layers = num_layers\n",
        "\n",
        "        if num_layers > 1:\n",
        "            # GAT layers\n",
        "            self.convs = nn.ModuleList([GATConv(dataset.num_features, hidden_channels, heads)])\n",
        "            self.convs.extend([GATConv(heads*hidden_channels, hidden_channels, heads) for i in range(num_layers - 2)])\n",
        "            self.convs.append(GATConv(heads*hidden_channels, dataset.num_classes))\n",
        "\n",
        "            # Batch Normilization\n",
        "            self.bns = nn.ModuleList([nn.BatchNorm1d(heads*hidden_channels)\n",
        "                                     for i in range(num_layers - 1)])\n",
        "        else:\n",
        "            self.convs = nn.ModuleList([GATConv(dataset.num_features, dataset.num_classes)])\n",
        "            self.bns = nn.ModuleList([])\n",
        "\n",
        "         # Softmax layer\n",
        "        self.softmax = nn.Softmax(1)\n",
        "\n",
        "        # Dropout\n",
        "        self.dropout = nn.Dropout(dropout)\n",
        "\n",
        "    # initialize parameters\n",
        "    def reset_parameters(self):\n",
        "        for conv in self.convs:\n",
        "            conv.reset_parameters()\n",
        "        for bn in self.bns:\n",
        "            bn.reset_parameters()\n",
        "\n",
        "    def forward(self, x, edge_index):\n",
        "        for gat, bn in zip(self.convs, self.bns):\n",
        "            x = self.dropout(torch.relu(bn(gat(x, edge_index))))\n",
        "        x = self.convs[-1](x, edge_index)\n",
        "\n",
        "        return self.softmax(x)\n"
      ]
    },
    {
      "cell_type": "code",
      "execution_count": null,
      "metadata": {
        "id": "O0OtPbLwFeP5"
      },
      "outputs": [],
      "source": [
        "model=GAT(hidden_channels=64, heads=8, num_layers=2, dropout=0.3).to(device)"
      ]
    },
    {
      "cell_type": "code",
      "execution_count": null,
      "metadata": {
        "colab": {
          "base_uri": "https://localhost:8080/"
        },
        "id": "pbcEe-lFBqxE",
        "outputId": "b70f21f5-11ee-4266-8086-aac6080e8b8b"
      },
      "outputs": [
        {
          "output_type": "stream",
          "name": "stdout",
          "text": [
            "Generated explanations in ['node_mask', 'edge_mask']\n",
            "Feature importance plot has been saved to 'feature_importance_GAT.png'\n"
          ]
        }
      ],
      "source": [
        "explainer = Explainer(\n",
        "    model=model,\n",
        "    algorithm=GNNExplainer(epochs=100),\n",
        "    explanation_type='model',\n",
        "    node_mask_type='attributes',\n",
        "    edge_mask_type='object',\n",
        "    model_config=dict(\n",
        "        mode='binary_classification',\n",
        "        task_level='node',\n",
        "        return_type='probs',\n",
        "    ),\n",
        ")\n",
        "\n",
        "explanation_GAT = explainer(data.x, data.edge_index)\n",
        "print(f'Generated explanations in {explanation_GAT.available_explanations}')\n",
        "\n",
        "path = 'feature_importance_GAT.png'\n",
        "explanation_GAT.visualize_feature_importance(path, top_k=20)\n",
        "print(f\"Feature importance plot has been saved to '{path}'\")"
      ]
    },
    {
      "cell_type": "code",
      "execution_count": null,
      "metadata": {
        "id": "qBYLh_M9MUeg"
      },
      "outputs": [],
      "source": [
        "GAT_node_importantScore = explanation_GAT.node_mask.sum(0).cpu().numpy()\n",
        "GAT_node_importantNorm = np.linalg.norm(GAT_node_importantScore)\n",
        "GAT_node_importantScore = GAT_node_importantScore / GAT_node_importantNorm\n",
        "GAT_important_features = np.argsort(GAT_node_importantScore)[::-1]\n",
        "GAT_important_features"
      ]
    },
    {
      "cell_type": "code",
      "execution_count": null,
      "metadata": {
        "id": "u-svAK_WCSy9"
      },
      "outputs": [],
      "source": [
        "class GraphSAGENet(nn.Module):\n",
        "    def __init__(self, hidden_channels, num_layers, dropout):\n",
        "        super().__init__()\n",
        "        torch.manual_seed(777)\n",
        "\n",
        "        if num_layers > 1:\n",
        "            # Convolution layers\n",
        "            self.convs = nn.ModuleList([SAGEConv(dataset.num_features, hidden_channels)])\n",
        "            self.convs.extend([SAGEConv(hidden_channels, hidden_channels) for i in range(num_layers - 2)])\n",
        "            self.convs.append(SAGEConv(hidden_channels, dataset.num_classes))\n",
        "\n",
        "             # Batch normilization\n",
        "            self.bns = nn.ModuleList([nn.BatchNorm1d(hidden_channels)\n",
        "                                     for i in range(num_layers - 1)])\n",
        "\n",
        "        else:\n",
        "            self.convs = nn.ModuleList([SAGEConv(dataset.num_features, dataset.num_classes)])\n",
        "            self.bns = nn.ModuleList([])\n",
        "\n",
        "        # Softmax layer\n",
        "        self.softmax = nn.Softmax(1)\n",
        "\n",
        "        # Dropout\n",
        "        self.dropout = nn.Dropout(dropout)\n",
        "\n",
        "    # initialize parameters\n",
        "    def reset_parameters(self):\n",
        "        for conv in self.convs:\n",
        "            conv.reset_parameters()\n",
        "        for bn in self.bns:\n",
        "            bn.reset_parameters()\n",
        "\n",
        "    def forward(self, x, edge_index):\n",
        "        for gcn, bn in zip(self.convs, self.bns):\n",
        "            x = self.dropout(torch.relu(bn(gcn(x, edge_index))))\n",
        "        x = self.convs[-1](x, edge_index)\n",
        "        return self.softmax(x)"
      ]
    },
    {
      "cell_type": "code",
      "execution_count": null,
      "metadata": {
        "id": "RurZCZO0CWdm"
      },
      "outputs": [],
      "source": [
        "model = GraphSAGENet(hidden_channels=64, num_layers=2, dropout=0.3).to(device)"
      ]
    },
    {
      "cell_type": "code",
      "execution_count": null,
      "metadata": {
        "colab": {
          "base_uri": "https://localhost:8080/",
          "height": 385
        },
        "id": "U26SEZ54CYku",
        "outputId": "3e19d3c1-70b3-4b28-8428-513a47dd716d"
      },
      "outputs": [
        {
          "output_type": "stream",
          "name": "stdout",
          "text": [
            "Feature importance plot has been saved to 'feature_importance_SAGE.png'\n"
          ]
        },
        {
          "output_type": "error",
          "ename": "KeyboardInterrupt",
          "evalue": "ignored",
          "traceback": [
            "\u001b[0;31m---------------------------------------------------------------------------\u001b[0m",
            "\u001b[0;31mKeyboardInterrupt\u001b[0m                         Traceback (most recent call last)",
            "\u001b[0;32m<ipython-input-21-4ab5be969b8e>\u001b[0m in \u001b[0;36m<cell line: 20>\u001b[0;34m()\u001b[0m\n\u001b[1;32m     18\u001b[0m \u001b[0;34m\u001b[0m\u001b[0m\n\u001b[1;32m     19\u001b[0m \u001b[0mpath\u001b[0m \u001b[0;34m=\u001b[0m \u001b[0;34m'subgraph.pdf'\u001b[0m\u001b[0;34m\u001b[0m\u001b[0;34m\u001b[0m\u001b[0m\n\u001b[0;32m---> 20\u001b[0;31m \u001b[0mexplanation_SAGE\u001b[0m\u001b[0;34m.\u001b[0m\u001b[0mvisualize_graph\u001b[0m\u001b[0;34m(\u001b[0m\u001b[0mpath\u001b[0m\u001b[0;34m)\u001b[0m\u001b[0;34m\u001b[0m\u001b[0;34m\u001b[0m\u001b[0m\n\u001b[0m\u001b[1;32m     21\u001b[0m \u001b[0mprint\u001b[0m\u001b[0;34m(\u001b[0m\u001b[0;34mf\"Subgraph visualization plot has been saved to '{path}'\"\u001b[0m\u001b[0;34m)\u001b[0m\u001b[0;34m\u001b[0m\u001b[0;34m\u001b[0m\u001b[0m\n",
            "\u001b[0;32m/usr/local/lib/python3.10/dist-packages/torch_geometric/explain/explanation.py\u001b[0m in \u001b[0;36mvisualize_graph\u001b[0;34m(self, path, backend)\u001b[0m\n\u001b[1;32m    250\u001b[0m                              \u001b[0;34mf\"in '{self.__class__.__name__}' \"\u001b[0m\u001b[0;34m\u001b[0m\u001b[0;34m\u001b[0m\u001b[0m\n\u001b[1;32m    251\u001b[0m                              f\"(got {self.available_explanations})\")\n\u001b[0;32m--> 252\u001b[0;31m         \u001b[0mvisualize_graph\u001b[0m\u001b[0;34m(\u001b[0m\u001b[0mself\u001b[0m\u001b[0;34m.\u001b[0m\u001b[0medge_index\u001b[0m\u001b[0;34m,\u001b[0m \u001b[0medge_mask\u001b[0m\u001b[0;34m,\u001b[0m \u001b[0mpath\u001b[0m\u001b[0;34m,\u001b[0m \u001b[0mbackend\u001b[0m\u001b[0;34m)\u001b[0m\u001b[0;34m\u001b[0m\u001b[0;34m\u001b[0m\u001b[0m\n\u001b[0m\u001b[1;32m    253\u001b[0m \u001b[0;34m\u001b[0m\u001b[0m\n\u001b[1;32m    254\u001b[0m \u001b[0;34m\u001b[0m\u001b[0m\n",
            "\u001b[0;32m/usr/local/lib/python3.10/dist-packages/torch_geometric/visualization/graph.py\u001b[0m in \u001b[0;36mvisualize_graph\u001b[0;34m(edge_index, edge_weight, path, backend)\u001b[0m\n\u001b[1;32m     61\u001b[0m         \u001b[0;32mreturn\u001b[0m \u001b[0m_visualize_graph_via_networkx\u001b[0m\u001b[0;34m(\u001b[0m\u001b[0medge_index\u001b[0m\u001b[0;34m,\u001b[0m \u001b[0medge_weight\u001b[0m\u001b[0;34m,\u001b[0m \u001b[0mpath\u001b[0m\u001b[0;34m)\u001b[0m\u001b[0;34m\u001b[0m\u001b[0;34m\u001b[0m\u001b[0m\n\u001b[1;32m     62\u001b[0m     \u001b[0;32melif\u001b[0m \u001b[0mbackend\u001b[0m\u001b[0;34m.\u001b[0m\u001b[0mlower\u001b[0m\u001b[0;34m(\u001b[0m\u001b[0;34m)\u001b[0m \u001b[0;34m==\u001b[0m \u001b[0;34m'graphviz'\u001b[0m\u001b[0;34m:\u001b[0m\u001b[0;34m\u001b[0m\u001b[0;34m\u001b[0m\u001b[0m\n\u001b[0;32m---> 63\u001b[0;31m         \u001b[0;32mreturn\u001b[0m \u001b[0m_visualize_graph_via_graphviz\u001b[0m\u001b[0;34m(\u001b[0m\u001b[0medge_index\u001b[0m\u001b[0;34m,\u001b[0m \u001b[0medge_weight\u001b[0m\u001b[0;34m,\u001b[0m \u001b[0mpath\u001b[0m\u001b[0;34m)\u001b[0m\u001b[0;34m\u001b[0m\u001b[0;34m\u001b[0m\u001b[0m\n\u001b[0m\u001b[1;32m     64\u001b[0m \u001b[0;34m\u001b[0m\u001b[0m\n\u001b[1;32m     65\u001b[0m     raise ValueError(f\"Expected graph drawing backend to be in \"\n",
            "\u001b[0;32m/usr/local/lib/python3.10/dist-packages/torch_geometric/visualization/graph.py\u001b[0m in \u001b[0;36m_visualize_graph_via_graphviz\u001b[0;34m(edge_index, edge_weight, path)\u001b[0m\n\u001b[1;32m     88\u001b[0m     \u001b[0;32mif\u001b[0m \u001b[0mpath\u001b[0m \u001b[0;32mis\u001b[0m \u001b[0;32mnot\u001b[0m \u001b[0;32mNone\u001b[0m\u001b[0;34m:\u001b[0m\u001b[0;34m\u001b[0m\u001b[0;34m\u001b[0m\u001b[0m\n\u001b[1;32m     89\u001b[0m         \u001b[0mpath\u001b[0m \u001b[0;34m=\u001b[0m \u001b[0;34m'.'\u001b[0m\u001b[0;34m.\u001b[0m\u001b[0mjoin\u001b[0m\u001b[0;34m(\u001b[0m\u001b[0mpath\u001b[0m\u001b[0;34m.\u001b[0m\u001b[0msplit\u001b[0m\u001b[0;34m(\u001b[0m\u001b[0;34m'.'\u001b[0m\u001b[0;34m)\u001b[0m\u001b[0;34m[\u001b[0m\u001b[0;34m:\u001b[0m\u001b[0;34m-\u001b[0m\u001b[0;36m1\u001b[0m\u001b[0;34m]\u001b[0m\u001b[0;34m)\u001b[0m\u001b[0;34m\u001b[0m\u001b[0;34m\u001b[0m\u001b[0m\n\u001b[0;32m---> 90\u001b[0;31m         \u001b[0mg\u001b[0m\u001b[0;34m.\u001b[0m\u001b[0mrender\u001b[0m\u001b[0;34m(\u001b[0m\u001b[0mpath\u001b[0m\u001b[0;34m,\u001b[0m \u001b[0mcleanup\u001b[0m\u001b[0;34m=\u001b[0m\u001b[0;32mTrue\u001b[0m\u001b[0;34m)\u001b[0m\u001b[0;34m\u001b[0m\u001b[0;34m\u001b[0m\u001b[0m\n\u001b[0m\u001b[1;32m     91\u001b[0m     \u001b[0;32melse\u001b[0m\u001b[0;34m:\u001b[0m\u001b[0;34m\u001b[0m\u001b[0;34m\u001b[0m\u001b[0m\n\u001b[1;32m     92\u001b[0m         \u001b[0mg\u001b[0m\u001b[0;34m.\u001b[0m\u001b[0mview\u001b[0m\u001b[0;34m(\u001b[0m\u001b[0;34m)\u001b[0m\u001b[0;34m\u001b[0m\u001b[0;34m\u001b[0m\u001b[0m\n",
            "\u001b[0;32m/usr/local/lib/python3.10/dist-packages/graphviz/_tools.py\u001b[0m in \u001b[0;36mwrapper\u001b[0;34m(*args, **kwargs)\u001b[0m\n\u001b[1;32m    169\u001b[0m                               category=category)\n\u001b[1;32m    170\u001b[0m \u001b[0;34m\u001b[0m\u001b[0m\n\u001b[0;32m--> 171\u001b[0;31m             \u001b[0;32mreturn\u001b[0m \u001b[0mfunc\u001b[0m\u001b[0;34m(\u001b[0m\u001b[0;34m*\u001b[0m\u001b[0margs\u001b[0m\u001b[0;34m,\u001b[0m \u001b[0;34m**\u001b[0m\u001b[0mkwargs\u001b[0m\u001b[0;34m)\u001b[0m\u001b[0;34m\u001b[0m\u001b[0;34m\u001b[0m\u001b[0m\n\u001b[0m\u001b[1;32m    172\u001b[0m \u001b[0;34m\u001b[0m\u001b[0m\n\u001b[1;32m    173\u001b[0m         \u001b[0;32mreturn\u001b[0m \u001b[0mwrapper\u001b[0m\u001b[0;34m\u001b[0m\u001b[0;34m\u001b[0m\u001b[0m\n",
            "\u001b[0;32m/usr/local/lib/python3.10/dist-packages/graphviz/rendering.py\u001b[0m in \u001b[0;36mrender\u001b[0;34m(self, filename, directory, view, cleanup, format, renderer, formatter, neato_no_op, quiet, quiet_view, outfile, engine, raise_if_result_exists, overwrite_source)\u001b[0m\n\u001b[1;32m    120\u001b[0m         \u001b[0margs\u001b[0m\u001b[0;34m.\u001b[0m\u001b[0mappend\u001b[0m\u001b[0;34m(\u001b[0m\u001b[0mfilepath\u001b[0m\u001b[0;34m)\u001b[0m\u001b[0;34m\u001b[0m\u001b[0;34m\u001b[0m\u001b[0m\n\u001b[1;32m    121\u001b[0m \u001b[0;34m\u001b[0m\u001b[0m\n\u001b[0;32m--> 122\u001b[0;31m         \u001b[0mrendered\u001b[0m \u001b[0;34m=\u001b[0m \u001b[0mself\u001b[0m\u001b[0;34m.\u001b[0m\u001b[0m_render\u001b[0m\u001b[0;34m(\u001b[0m\u001b[0;34m*\u001b[0m\u001b[0margs\u001b[0m\u001b[0;34m,\u001b[0m \u001b[0;34m**\u001b[0m\u001b[0mkwargs\u001b[0m\u001b[0;34m)\u001b[0m\u001b[0;34m\u001b[0m\u001b[0;34m\u001b[0m\u001b[0m\n\u001b[0m\u001b[1;32m    123\u001b[0m \u001b[0;34m\u001b[0m\u001b[0m\n\u001b[1;32m    124\u001b[0m         \u001b[0;32mif\u001b[0m \u001b[0mcleanup\u001b[0m\u001b[0;34m:\u001b[0m\u001b[0;34m\u001b[0m\u001b[0;34m\u001b[0m\u001b[0m\n",
            "\u001b[0;32m/usr/local/lib/python3.10/dist-packages/graphviz/_tools.py\u001b[0m in \u001b[0;36mwrapper\u001b[0;34m(*args, **kwargs)\u001b[0m\n\u001b[1;32m    169\u001b[0m                               category=category)\n\u001b[1;32m    170\u001b[0m \u001b[0;34m\u001b[0m\u001b[0m\n\u001b[0;32m--> 171\u001b[0;31m             \u001b[0;32mreturn\u001b[0m \u001b[0mfunc\u001b[0m\u001b[0;34m(\u001b[0m\u001b[0;34m*\u001b[0m\u001b[0margs\u001b[0m\u001b[0;34m,\u001b[0m \u001b[0;34m**\u001b[0m\u001b[0mkwargs\u001b[0m\u001b[0;34m)\u001b[0m\u001b[0;34m\u001b[0m\u001b[0;34m\u001b[0m\u001b[0m\n\u001b[0m\u001b[1;32m    172\u001b[0m \u001b[0;34m\u001b[0m\u001b[0m\n\u001b[1;32m    173\u001b[0m         \u001b[0;32mreturn\u001b[0m \u001b[0mwrapper\u001b[0m\u001b[0;34m\u001b[0m\u001b[0;34m\u001b[0m\u001b[0m\n",
            "\u001b[0;32m/usr/local/lib/python3.10/dist-packages/graphviz/backend/rendering.py\u001b[0m in \u001b[0;36mrender\u001b[0;34m(engine, format, filepath, renderer, formatter, neato_no_op, quiet, outfile, raise_if_result_exists, overwrite_filepath)\u001b[0m\n\u001b[1;32m    322\u001b[0m     \u001b[0mcmd\u001b[0m \u001b[0;34m+=\u001b[0m \u001b[0margs\u001b[0m\u001b[0;34m\u001b[0m\u001b[0;34m\u001b[0m\u001b[0m\n\u001b[1;32m    323\u001b[0m \u001b[0;34m\u001b[0m\u001b[0m\n\u001b[0;32m--> 324\u001b[0;31m     execute.run_check(cmd,\n\u001b[0m\u001b[1;32m    325\u001b[0m                       \u001b[0mcwd\u001b[0m\u001b[0;34m=\u001b[0m\u001b[0mfilepath\u001b[0m\u001b[0;34m.\u001b[0m\u001b[0mparent\u001b[0m \u001b[0;32mif\u001b[0m \u001b[0mfilepath\u001b[0m\u001b[0;34m.\u001b[0m\u001b[0mparent\u001b[0m\u001b[0;34m.\u001b[0m\u001b[0mparts\u001b[0m \u001b[0;32melse\u001b[0m \u001b[0;32mNone\u001b[0m\u001b[0;34m,\u001b[0m\u001b[0;34m\u001b[0m\u001b[0;34m\u001b[0m\u001b[0m\n\u001b[1;32m    326\u001b[0m                       \u001b[0mquiet\u001b[0m\u001b[0;34m=\u001b[0m\u001b[0mquiet\u001b[0m\u001b[0;34m,\u001b[0m\u001b[0;34m\u001b[0m\u001b[0;34m\u001b[0m\u001b[0m\n",
            "\u001b[0;32m/usr/local/lib/python3.10/dist-packages/graphviz/backend/execute.py\u001b[0m in \u001b[0;36mrun_check\u001b[0;34m(cmd, input_lines, encoding, quiet, **kwargs)\u001b[0m\n\u001b[1;32m     79\u001b[0m             \u001b[0mproc\u001b[0m \u001b[0;34m=\u001b[0m \u001b[0m_run_input_lines\u001b[0m\u001b[0;34m(\u001b[0m\u001b[0mcmd\u001b[0m\u001b[0;34m,\u001b[0m \u001b[0minput_lines\u001b[0m\u001b[0;34m,\u001b[0m \u001b[0mkwargs\u001b[0m\u001b[0;34m=\u001b[0m\u001b[0mkwargs\u001b[0m\u001b[0;34m)\u001b[0m\u001b[0;34m\u001b[0m\u001b[0;34m\u001b[0m\u001b[0m\n\u001b[1;32m     80\u001b[0m         \u001b[0;32melse\u001b[0m\u001b[0;34m:\u001b[0m\u001b[0;34m\u001b[0m\u001b[0;34m\u001b[0m\u001b[0m\n\u001b[0;32m---> 81\u001b[0;31m             \u001b[0mproc\u001b[0m \u001b[0;34m=\u001b[0m \u001b[0msubprocess\u001b[0m\u001b[0;34m.\u001b[0m\u001b[0mrun\u001b[0m\u001b[0;34m(\u001b[0m\u001b[0mcmd\u001b[0m\u001b[0;34m,\u001b[0m \u001b[0;34m**\u001b[0m\u001b[0mkwargs\u001b[0m\u001b[0;34m)\u001b[0m\u001b[0;34m\u001b[0m\u001b[0;34m\u001b[0m\u001b[0m\n\u001b[0m\u001b[1;32m     82\u001b[0m     \u001b[0;32mexcept\u001b[0m \u001b[0mOSError\u001b[0m \u001b[0;32mas\u001b[0m \u001b[0me\u001b[0m\u001b[0;34m:\u001b[0m\u001b[0;34m\u001b[0m\u001b[0;34m\u001b[0m\u001b[0m\n\u001b[1;32m     83\u001b[0m         \u001b[0;32mif\u001b[0m \u001b[0me\u001b[0m\u001b[0;34m.\u001b[0m\u001b[0merrno\u001b[0m \u001b[0;34m==\u001b[0m \u001b[0merrno\u001b[0m\u001b[0;34m.\u001b[0m\u001b[0mENOENT\u001b[0m\u001b[0;34m:\u001b[0m\u001b[0;34m\u001b[0m\u001b[0;34m\u001b[0m\u001b[0m\n",
            "\u001b[0;32m/usr/lib/python3.10/subprocess.py\u001b[0m in \u001b[0;36mrun\u001b[0;34m(input, capture_output, timeout, check, *popenargs, **kwargs)\u001b[0m\n\u001b[1;32m    503\u001b[0m     \u001b[0;32mwith\u001b[0m \u001b[0mPopen\u001b[0m\u001b[0;34m(\u001b[0m\u001b[0;34m*\u001b[0m\u001b[0mpopenargs\u001b[0m\u001b[0;34m,\u001b[0m \u001b[0;34m**\u001b[0m\u001b[0mkwargs\u001b[0m\u001b[0;34m)\u001b[0m \u001b[0;32mas\u001b[0m \u001b[0mprocess\u001b[0m\u001b[0;34m:\u001b[0m\u001b[0;34m\u001b[0m\u001b[0;34m\u001b[0m\u001b[0m\n\u001b[1;32m    504\u001b[0m         \u001b[0;32mtry\u001b[0m\u001b[0;34m:\u001b[0m\u001b[0;34m\u001b[0m\u001b[0;34m\u001b[0m\u001b[0m\n\u001b[0;32m--> 505\u001b[0;31m             \u001b[0mstdout\u001b[0m\u001b[0;34m,\u001b[0m \u001b[0mstderr\u001b[0m \u001b[0;34m=\u001b[0m \u001b[0mprocess\u001b[0m\u001b[0;34m.\u001b[0m\u001b[0mcommunicate\u001b[0m\u001b[0;34m(\u001b[0m\u001b[0minput\u001b[0m\u001b[0;34m,\u001b[0m \u001b[0mtimeout\u001b[0m\u001b[0;34m=\u001b[0m\u001b[0mtimeout\u001b[0m\u001b[0;34m)\u001b[0m\u001b[0;34m\u001b[0m\u001b[0;34m\u001b[0m\u001b[0m\n\u001b[0m\u001b[1;32m    506\u001b[0m         \u001b[0;32mexcept\u001b[0m \u001b[0mTimeoutExpired\u001b[0m \u001b[0;32mas\u001b[0m \u001b[0mexc\u001b[0m\u001b[0;34m:\u001b[0m\u001b[0;34m\u001b[0m\u001b[0;34m\u001b[0m\u001b[0m\n\u001b[1;32m    507\u001b[0m             \u001b[0mprocess\u001b[0m\u001b[0;34m.\u001b[0m\u001b[0mkill\u001b[0m\u001b[0;34m(\u001b[0m\u001b[0;34m)\u001b[0m\u001b[0;34m\u001b[0m\u001b[0;34m\u001b[0m\u001b[0m\n",
            "\u001b[0;32m/usr/lib/python3.10/subprocess.py\u001b[0m in \u001b[0;36mcommunicate\u001b[0;34m(self, input, timeout)\u001b[0m\n\u001b[1;32m   1152\u001b[0m \u001b[0;34m\u001b[0m\u001b[0m\n\u001b[1;32m   1153\u001b[0m             \u001b[0;32mtry\u001b[0m\u001b[0;34m:\u001b[0m\u001b[0;34m\u001b[0m\u001b[0;34m\u001b[0m\u001b[0m\n\u001b[0;32m-> 1154\u001b[0;31m                 \u001b[0mstdout\u001b[0m\u001b[0;34m,\u001b[0m \u001b[0mstderr\u001b[0m \u001b[0;34m=\u001b[0m \u001b[0mself\u001b[0m\u001b[0;34m.\u001b[0m\u001b[0m_communicate\u001b[0m\u001b[0;34m(\u001b[0m\u001b[0minput\u001b[0m\u001b[0;34m,\u001b[0m \u001b[0mendtime\u001b[0m\u001b[0;34m,\u001b[0m \u001b[0mtimeout\u001b[0m\u001b[0;34m)\u001b[0m\u001b[0;34m\u001b[0m\u001b[0;34m\u001b[0m\u001b[0m\n\u001b[0m\u001b[1;32m   1155\u001b[0m             \u001b[0;32mexcept\u001b[0m \u001b[0mKeyboardInterrupt\u001b[0m\u001b[0;34m:\u001b[0m\u001b[0;34m\u001b[0m\u001b[0;34m\u001b[0m\u001b[0m\n\u001b[1;32m   1156\u001b[0m                 \u001b[0;31m# https://bugs.python.org/issue25942\u001b[0m\u001b[0;34m\u001b[0m\u001b[0;34m\u001b[0m\u001b[0m\n",
            "\u001b[0;32m/usr/lib/python3.10/subprocess.py\u001b[0m in \u001b[0;36m_communicate\u001b[0;34m(self, input, endtime, orig_timeout)\u001b[0m\n\u001b[1;32m   2019\u001b[0m                             'failed to raise TimeoutExpired.')\n\u001b[1;32m   2020\u001b[0m \u001b[0;34m\u001b[0m\u001b[0m\n\u001b[0;32m-> 2021\u001b[0;31m                     \u001b[0mready\u001b[0m \u001b[0;34m=\u001b[0m \u001b[0mselector\u001b[0m\u001b[0;34m.\u001b[0m\u001b[0mselect\u001b[0m\u001b[0;34m(\u001b[0m\u001b[0mtimeout\u001b[0m\u001b[0;34m)\u001b[0m\u001b[0;34m\u001b[0m\u001b[0;34m\u001b[0m\u001b[0m\n\u001b[0m\u001b[1;32m   2022\u001b[0m                     \u001b[0mself\u001b[0m\u001b[0;34m.\u001b[0m\u001b[0m_check_timeout\u001b[0m\u001b[0;34m(\u001b[0m\u001b[0mendtime\u001b[0m\u001b[0;34m,\u001b[0m \u001b[0morig_timeout\u001b[0m\u001b[0;34m,\u001b[0m \u001b[0mstdout\u001b[0m\u001b[0;34m,\u001b[0m \u001b[0mstderr\u001b[0m\u001b[0;34m)\u001b[0m\u001b[0;34m\u001b[0m\u001b[0;34m\u001b[0m\u001b[0m\n\u001b[1;32m   2023\u001b[0m \u001b[0;34m\u001b[0m\u001b[0m\n",
            "\u001b[0;32m/usr/lib/python3.10/selectors.py\u001b[0m in \u001b[0;36mselect\u001b[0;34m(self, timeout)\u001b[0m\n\u001b[1;32m    414\u001b[0m         \u001b[0mready\u001b[0m \u001b[0;34m=\u001b[0m \u001b[0;34m[\u001b[0m\u001b[0;34m]\u001b[0m\u001b[0;34m\u001b[0m\u001b[0;34m\u001b[0m\u001b[0m\n\u001b[1;32m    415\u001b[0m         \u001b[0;32mtry\u001b[0m\u001b[0;34m:\u001b[0m\u001b[0;34m\u001b[0m\u001b[0;34m\u001b[0m\u001b[0m\n\u001b[0;32m--> 416\u001b[0;31m             \u001b[0mfd_event_list\u001b[0m \u001b[0;34m=\u001b[0m \u001b[0mself\u001b[0m\u001b[0;34m.\u001b[0m\u001b[0m_selector\u001b[0m\u001b[0;34m.\u001b[0m\u001b[0mpoll\u001b[0m\u001b[0;34m(\u001b[0m\u001b[0mtimeout\u001b[0m\u001b[0;34m)\u001b[0m\u001b[0;34m\u001b[0m\u001b[0;34m\u001b[0m\u001b[0m\n\u001b[0m\u001b[1;32m    417\u001b[0m         \u001b[0;32mexcept\u001b[0m \u001b[0mInterruptedError\u001b[0m\u001b[0;34m:\u001b[0m\u001b[0;34m\u001b[0m\u001b[0;34m\u001b[0m\u001b[0m\n\u001b[1;32m    418\u001b[0m             \u001b[0;32mreturn\u001b[0m \u001b[0mready\u001b[0m\u001b[0;34m\u001b[0m\u001b[0;34m\u001b[0m\u001b[0m\n",
            "\u001b[0;31mKeyboardInterrupt\u001b[0m: "
          ]
        }
      ],
      "source": [
        "explainer = Explainer(\n",
        "    model=model,\n",
        "    algorithm=GNNExplainer(epochs=200),\n",
        "    explanation_type='model',\n",
        "    node_mask_type='attributes',\n",
        "    edge_mask_type='object',\n",
        "    model_config=dict(\n",
        "        mode='binary_classification',\n",
        "        task_level='node',\n",
        "        return_type='probs',\n",
        "    ),\n",
        ")\n",
        "\n",
        "explanation_SAGE = explainer(data.x, data.edge_index)\n",
        "path = 'feature_importance_SAGE.png'\n",
        "explanation_SAGE.visualize_feature_importance(path, top_k=20)\n",
        "print(f\"Feature importance plot has been saved to '{path}'\")\n",
        "\n",
        "path = 'subgraph.pdf'\n",
        "explanation_SAGE.visualize_graph(path)\n",
        "print(f\"Subgraph visualization plot has been saved to '{path}'\")"
      ]
    },
    {
      "cell_type": "code",
      "execution_count": null,
      "metadata": {
        "colab": {
          "base_uri": "https://localhost:8080/"
        },
        "id": "wIgucOcvFxVI",
        "outputId": "b7df3ed5-8d1c-431f-dd3c-bb734029be73"
      },
      "outputs": [
        {
          "data": {
            "text/plain": [
              "array([157,  67, 158, 144,  79,  90, 133, 143,  61,  88,  19, 150,  80,\n",
              "        68, 151, 138, 139, 100, 135, 140, 134,  74, 152,  91, 146, 112,\n",
              "        86,  92,  62,  84, 113, 145,  85, 114, 102, 147, 111,   2,  99,\n",
              "       155, 136,  51, 148, 149,  20,  54,  55,  32,  39,  48,  98,  78,\n",
              "        12,  97,  89, 121, 163, 164,  46, 156, 154,  77, 142,  93,  26,\n",
              "       104, 106,  73,  40, 103,   0, 110,  83,  52,  94, 153,  66,  25,\n",
              "        87, 115, 137,  11,  31, 122,  65,   8,  28,  56, 116, 109,  44,\n",
              "        43, 127, 125, 160,  49,  45,  58,  64,  96, 105,  42, 118,  82,\n",
              "        60, 128,  50, 119,  16, 123,  41, 130,  29, 107, 120,  17,  18,\n",
              "        21,  47,   3, 132,  22,  76, 117, 131, 108,   5, 129,  53, 124,\n",
              "        15,  38, 126,  10, 162,  24,  95,   7,   1,  81,  37, 101,  75,\n",
              "       141,  36,  63,  59, 159,  30, 161,  27,  13,  71,  69,  33,  34,\n",
              "        57,   6,  70,   4,  35,   9,  14,  72,  23])"
            ]
          },
          "execution_count": 93,
          "metadata": {},
          "output_type": "execute_result"
        }
      ],
      "source": [
        "SAGE_node_importantScore = explanation_SAGE.node_mask.sum(0).cpu().numpy()\n",
        "SAGE_node_importantNorm = np.linalg.norm(SAGE_node_importantScore)\n",
        "SAGE_node_importantScore = SAGE_node_importantScore / SAGE_node_importantNorm\n",
        "SAGE_important_features = np.argsort(SAGE_node_importantScore)[::-1]\n",
        "SAGE_important_features"
      ]
    },
    {
      "cell_type": "code",
      "execution_count": null,
      "metadata": {
        "colab": {
          "base_uri": "https://localhost:8080/"
        },
        "id": "7kb9ekObRR1u",
        "outputId": "a636b555-571a-4f44-8fbc-7ac7374111ce"
      },
      "outputs": [
        {
          "data": {
            "text/plain": [
              "array([ 61, 135,  99, 147, 100, 114,   2, 136, 157,  19, 133, 102, 111,\n",
              "       139, 158,  67, 138, 144,  79, 146, 134,  86,  90, 148,  91, 151,\n",
              "        62,  88,  85, 152,  68, 143,  92,  80, 149,  54,  20, 155, 140,\n",
              "       145, 163,  51, 154,  74, 112,  65, 164,  89, 142,  52, 113,  39,\n",
              "       150,  76, 156,  24,  53,  84, 153,  78,  83,  42,   0,  55, 137,\n",
              "        32, 106,  97,  46, 104,  73,  18,  98,  16,  48, 103,  58,  26,\n",
              "        82,  12,  87,  96,  11,  28,  25, 118,  77, 121, 110, 105,  31,\n",
              "        40,  45,  10, 109,   8,  56,  94,  66, 115, 122, 130,  43, 161,\n",
              "        93, 126, 116,  44,  59,  75, 128,  47, 132,   5,  50,  60, 117,\n",
              "        17, 131,  64, 107, 127,   7,  30,  49,   3,  21, 125, 162, 160,\n",
              "       141, 120,  22, 119, 124, 123,  29,  27,   1, 129,  23, 108,   6,\n",
              "        41,   4, 159,  38,  37,  15,  13,  95, 101,  36,  81,  69,  63,\n",
              "        34,  70,  33,  57,  35,  71,  14,  72,   9])"
            ]
          },
          "execution_count": 95,
          "metadata": {},
          "output_type": "execute_result"
        }
      ],
      "source": [
        "important_score = GAT_node_importantScore + GCN_node_importantScore + SAGE_node_importantScore\n",
        "important_features = np.argsort(important_score)[::-1]\n",
        "important_features"
      ]
    }
  ],
  "metadata": {
    "accelerator": "GPU",
    "colab": {
      "machine_shape": "hm",
      "provenance": []
    },
    "kernelspec": {
      "display_name": "Python 3",
      "name": "python3"
    },
    "language_info": {
      "name": "python"
    }
  },
  "nbformat": 4,
  "nbformat_minor": 0
}